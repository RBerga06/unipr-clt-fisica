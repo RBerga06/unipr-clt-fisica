{
 "cells": [
  {
   "cell_type": "code",
   "execution_count": 17,
   "metadata": {},
   "outputs": [],
   "source": [
    "import sys\n",
    "from pathlib import Path\n",
    "sys.path.insert(1, Path.cwd().parent.as_posix())\n",
    "\n",
    "from matplotlib import pyplot as plt\n",
    "import numpy as np\n",
    "from numpy import typing as npt\n",
    "from typing import TypedDict\n",
    "from utils.oscilloscope import Oscilloscope, plot_data\n",
    "from rberga06.phylab import Datum as d"
   ]
  },
  {
   "cell_type": "code",
   "execution_count": null,
   "metadata": {},
   "outputs": [],
   "source": [
    "class DataSet(TypedDict):\n",
    "    R: float\n",
    "    Freq: npt.NDArray[np.float64]\n",
    "    V: list[tuple[npt.NDArray[np.float64], npt.NDArray[np.float64], npt.NDArray[np.float64]]]"
   ]
  },
  {
   "cell_type": "code",
   "execution_count": 3,
   "metadata": {},
   "outputs": [],
   "source": [
    "all_data_day1 = [Oscilloscope.Elettr.load_data(i, dir=\"data/day1\", plot_dir=\"elab/day1\") for i in range(51)]\n",
    "all_data_day2 = [Oscilloscope.Elettr.load_data(i, dir=\"data/day2\", plot_dir=\"elab/day2\") for i in range(27)]"
   ]
  },
  {
   "cell_type": "code",
   "execution_count": null,
   "metadata": {},
   "outputs": [],
   "source": [
    "dati: list[DataSet] = [{\n",
    "    \"R\": 1.e3,  # Ohm\n",
    "    \"Freq\": np.array([\n",
    "        np.nan, 1., 4.96, np.nan, np.nan, 10.2, 20.10, 50.13, 100.2, 200.0, 500.3, 1.004e3,\n",
    "        np.nan, np.nan, 2.000e3, 5.000e3, 7.500e3, 10.000e3,\n",
    "        15.e3, # forse qualitativo?\n",
    "        20.02e3,\n",
    "        # manca un 25.02 kHz\n",
    "        30.01e3, 49.99e3, 99.99e3, 200.1e3, 499.9e3, 999.9e3, 5.001e6,\n",
    "    ]),\n",
    "    # \"dFreq\": np.array([.01, .01, .1, .01, .01, .1, .1, .3, .001e3]),\n",
    "    \"V\": all_data_day1[0:26],\n",
    "}, {\n",
    "    \"R\": 1.e3,\n",
    "    \"Freq\": np.array([]),\n",
    "    \"V\": all_data_day2[0:],\n",
    "}, {\n",
    "    \"R\": 1.e3,\n",
    "    \"Freq\": np.array([]),\n",
    "    \"V\": all_data_day2[0:0],\n",
    "}\n",
    "#{\n",
    "    # R = 100 Ohm\n",
    "    # \"Freq\": np.array([1., ])\n",
    "#}\n",
    "]"
   ]
  },
  {
   "cell_type": "code",
   "execution_count": 16,
   "metadata": {},
   "outputs": [
    {
     "data": {
      "image/png": "[encoded data removed]",
      "text/plain": [
       "<Figure size 640x480 with 1 Axes>"
      ]
     },
     "metadata": {},
     "output_type": "display_data"
    }
   ],
   "source": [
    "for set_di_dati in dati:\n",
    "    frequenze = []\n",
    "    ampiezze_ch1 = []\n",
    "    for f, (t, ch1, ch2) in zip(set_di_dati[\"Freq\"], set_di_dati[\"V\"]):\n",
    "        if np.isnan(f):\n",
    "            continue\n",
    "        ampiezza = max(np.nanmax(ch1), -np.nanmin(ch1))\n",
    "        ampiezze_ch1.append(ampiezza)\n",
    "        frequenze.append(f)\n",
    "\n",
    "    plt.scatter(frequenze, ampiezze_ch1)\n",
    "    plt.xscale(\"log\")\n",
    "    plt.show()"
   ]
  },
  {
   "cell_type": "code",
   "execution_count": null,
   "metadata": {},
   "outputs": [],
   "source": []
  }
 ],
 "metadata": {
  "kernelspec": {
   "display_name": "default",
   "language": "python",
   "name": "python3"
  },
  "language_info": {
   "codemirror_mode": {
    "name": "ipython",
    "version": 3
   },
   "file_extension": ".py",
   "mimetype": "text/x-python",
   "name": "python",
   "nbconvert_exporter": "python",
   "pygments_lexer": "ipython3",
   "version": "3.12.7"
  }
 },
 "nbformat": 4,
 "nbformat_minor": 2
}
