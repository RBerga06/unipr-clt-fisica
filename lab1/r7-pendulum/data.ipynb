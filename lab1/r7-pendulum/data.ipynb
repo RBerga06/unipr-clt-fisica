{
 "cells": [
  {
   "cell_type": "markdown",
   "metadata": {},
   "source": [
    "# Laboratorio di Fisica 1 modulo 2 | R7: il Pendolo Fisico"
   ]
  },
  {
   "cell_type": "markdown",
   "metadata": {},
   "source": [
    "## Setup"
   ]
  },
  {
   "cell_type": "code",
   "execution_count": 2,
   "metadata": {},
   "outputs": [
    {
     "ename": "",
     "evalue": "",
     "output_type": "error",
     "traceback": [
      "\u001b[1;31mSi è verificato un arresto anomalo del Kernel durante l'esecuzione del codice nella cella attiva o in una cella precedente. \n",
      "\u001b[1;31mEsaminare il codice nelle celle per identificare una possibile causa dell'errore. \n",
      "\u001b[1;31mPer altre informazioni, fare clic<a href='https://aka.ms/vscodeJupyterKernelCrash'>qui</a>. \n",
      "\u001b[1;31mPer ulteriori dettagli, visualizzare Jupyter <a href='command:jupyter.viewOutput'>log</a>."
     ]
    }
   ],
   "source": [
    "%matplotlib widget\n",
    "import math\n",
    "import matplotlib.pyplot as plt\n",
    "# plt.rcParams['figure.dpi'] = 150\n",
    "# plt.rcParams['figure.figsize'] = [15, 5]\n",
    "import numpy as np\n",
    "import pandas as pd\n",
    "import sympy as sp\n",
    "sp.init_printing(use_latex=True)"
   ]
  },
  {
   "cell_type": "code",
   "execution_count": 1,
   "metadata": {
    "metadata": {}
   },
   "outputs": [],
   "source": [
    "from dataclasses import dataclass\n",
    "@dataclass(frozen=True, slots=True)\n",
    "class d:\n",
    "    best: float\n",
    "    delta: float\n",
    "    @property\n",
    "    def delta_rel(self) -> float: return self.delta / abs(self.best)\n",
    "    @classmethod\n",
    "    def from_delta_rel(cls, best: float, delta_rel: float) -> \"d\": return cls(best, delta_rel * abs(best))\n",
    "    def __add__(self, other: \"d | float\"):\n",
    "        return d(self.best + _best(other), math.sqrt(_delta(self)**2 + _delta(other)**2))\n",
    "    def __sub__(self, other: \"d | float\"):\n",
    "        return d(self.best - _best(other), math.sqrt(_delta(self)**2 + _delta(other)**2))\n",
    "    def __neg__(self): return d(-self.best, self.delta)\n",
    "    def __pos__(self): return self\n",
    "    def __mul__(self, other: \"d | float\"):\n",
    "        return d.from_delta_rel(self.best * _best(other), math.sqrt(self.delta_rel**2 + other.delta_rel**2) if isinstance(other, d) else self.delta_rel)\n",
    "    def __truediv__(self, other: \"d | float\"): return d.from_delta_rel(self.best / _best(other), math.sqrt(self.delta_rel**2 + other.delta_rel**2) if isinstance(other, d) else self.delta_rel)\n",
    "    def __rdiv__(self, other: \"d | float\"): return d.from_delta_rel(_best(other) / self.best, math.sqrt(self.delta_rel**2 + other.delta_rel**2) if isinstance(other, d) else self.delta_rel)\n",
    "    def __pow__(self, other: float): return d.from_delta_rel(self.best ** other, abs(other * self.delta_rel))\n",
    "    __radd__ = __add__\n",
    "    __rmul__ = __mul__\n",
    "\n",
    "def _best(x: d | float): return x.best if isinstance(x, d) else x\n",
    "def _delta(x: d | float): return x.delta if isinstance(x, d) else 0"
   ]
  },
  {
   "cell_type": "markdown",
   "metadata": {},
   "source": [
    "## Formule\n",
    "\n",
    "$$\\omega^2 = \\frac{m d g}{I}$$\n",
    "\n",
    "$$g = \\frac{4\\pi^2 I_\\text{tot}}{M x_{CM} T^2}$$\n",
    "\n",
    "$$M = m_\\text{rotore} + m_\\text{asta} + m_\\text{campioni}$$\n",
    "\n",
    "$$M x_\\text{CM} = m_\\text{asta} \\frac{L_\\text{asta} + \\varnothing_\\text{rotore}}{2} + \\sum_{i} m_i \\left(d_i + \\frac{h_i - \\varnothing_\\text{rotore}}{2}\\right)$$\n",
    "\n",
    "\n",
    "$$I = I_\\text{CM} + M D^2$$\n",
    "\n",
    "$$I_\\text{tot} = I_\\text{asta} + I_\\text{rotore} + \\sum_{i} I_i$$\n",
    "\n",
    "$$I_\\text{tot} = I_\\text{asta,CM} + m_\\text{asta} \\left(\\frac{L_\\text{asta} + \\varnothing_\\text{rotore}}{2}\\right)^2 + I_\\text{rotore} + \\sum_{i} \\left(I_{i,CM} + m_i \\left(d_i + \\frac{h_i - \\varnothing_\\text{rotore}}{2}\\right)^2\\right)$$\n"
   ]
  },
  {
   "cell_type": "code",
   "execution_count": 2,
   "metadata": {
    "metadata": {}
   },
   "outputs": [
    {
     "name": "stdout",
     "output_type": "stream",
     "text": [
      "d(best=0.0056848948342950005, delta=1.4814939452337994e-05)\n"
     ]
    }
   ],
   "source": [
    "f = d | float\n",
    "\n",
    "def Icil(M: f, H: f, R: f, r: f): return M * (R**2 + r**2) / 4 + M * H**2 / 12\n",
    "def HS(Icm: f, M: f, D: f): return Icm + M * D**2\n",
    "# Rotore\n",
    "Drotore = d(13.41, 0.01)/1000  # m\n",
    "Mrotore = d(22.4, 0.4)/1000  # kg\n",
    "Irotore = d(5.8, 0.1)*1e-7  # kg m^2\n",
    "# Asta\n",
    "Masta = d(45.82, 0.01)/1000  # ± 0.01 g\n",
    "Dasta = d(5.94, 0.01)/1000   # ± 0.01 mm\n",
    "Lasta = d(60.0, 0.1)/100  # ± 0.1 cm\n",
    "Iasta = HS(Icil(Masta, Lasta, Dasta/2, 0.0), Masta, (Lasta + Drotore)/2)  # kg m^2\n",
    "# Masse\n",
    "Mp = {\n",
    "    1: d(115.95, 0.01)/1000,  # ± 0.01 g\n",
    "    2: d(115.86, 0.01)/1000,  # ± 0.01 g\n",
    "    3: d(71.46, 0.01)/1000,  # ± 0.01 g\n",
    "}\n",
    "Hp = {\n",
    "    1: d(19.93, 0.01)/1000,  # ± 0.01 mm\n",
    "    2: d(19.89, 0.01)/1000,  # ± 0.01 mm\n",
    "    3: d(12.08, 0.01)/1000,  # ± 0.01 mm\n",
    "}\n",
    "Dp = d(29.95, 0.05)/1000  # ± 0.05 mm  # diametro esterno\n",
    "dp = d(6.20, 0.05)/1000  # ± 0.05 mm  # diametro interno\n",
    "#\n",
    "\n",
    "runs = [{k: d(v, 0.1/100) for k, v in x.items()} for x in [{}, {}, {}, {\n",
    "    1: 12.7/100, # ± 0.1 cm # 126.55 ± 0.05 mm\n",
    "}, {\n",
    "    1: 31.7/100, # ± 0.1 cm\n",
    "}, {\n",
    "    1: 51.7/100, # ± 0.1 cm\n",
    "}, {\n",
    "    3: 13.9/100, # ± 0.1 cm  # distanza\n",
    "}, {\n",
    "    3: 23.9/100, # ± 0.1 cm  # distanza\n",
    "}, {\n",
    "    3: 40.3/100, # ± 0.1 cm  # distanza\n",
    "}, {\n",
    "    1: 35.6/100, # ± 0.1 cm  # distanza\n",
    "    3: 25.0/100, # ± 0.1 cm  # distanza\n",
    "}, {\n",
    "    1: 25.2/100, # ± 0.1 cm  # distanza\n",
    "    3: 12.1/100, # ± 0.1 cm  # distanza\n",
    "}, {\n",
    "    1: 19.1/100, # ± 0.1 cm  # distanza\n",
    "    3: 49.1/100, # ± 0.1 cm  # distanza\n",
    "}, {\n",
    "    1: 14.1/100, # ± 0.1 cm  # distanza\n",
    "    2: 26.1/100, # ± 0.1 cm  # distanza\n",
    "}, {\n",
    "    1: 15.4/100, # ± 0.1 cm  # distanza\n",
    "    2: 42.3/100, # ± 0.1 cm  # distanza\n",
    "}, {\n",
    "    1: 2.5/100, # ± 0.1 cm  # distanza\n",
    "    2: 21.8/100, # ± 0.1 cm  # distanza\n",
    "}, {\n",
    "    1: 2.4/100, # ± 0.1 cm  # distanza\n",
    "    2: 5.6/100, # ± 0.1 cm  # distanza\n",
    "    3: 60.2/100, # ± 0.1 cm  # distanza\n",
    "}, {\n",
    "    1: 2.4/100, # ± 0.1 cm  # distanza\n",
    "    2: 5.7/100, # ± 0.1 cm  # distanza\n",
    "    3: 7.7/100, # ± 0.1 cm  # distanza\n",
    "}, {\n",
    "    1: 4.2/100, # ± 0.1 cm  # distanza\n",
    "    2: 8.8/100, # ± 0.1 cm  # distanza\n",
    "    3: 11.7/100, # ± 0.1 cm  # distanza\n",
    "}]]\n",
    "#\n",
    "def dataI(run: dict[int, d]):\n",
    "    return Iasta + Irotore + sum([HS(Icil(Mp[i], Hp[i], Dp/2, dp/2), Mp[i], _d + (Hp[i] - Drotore)/2) for i, _d in run.items()])\n",
    "def dataMX(run: dict[int, d]):\n",
    "    return Masta * (Lasta + Drotore)/2 + sum([Mp[i] * (_d + (Hp[i] - Drotore)/2) for i, _d in run.items()])\n",
    "# MXcm_p1d1 = Masta * (Lasta + Drotore)/2 + Mp1 * (Lp1d1 + (Hp1 - Drotore)/2)\n",
    "# Ip1d1 = Iasta + Irotore + HS(Icil(Mp1, Hp1, Dp1/2, dp1/2), Mp1, Lp1d1 + (Hp1 - Drotore)/2)  # kg m^2\n",
    "print(Iasta)\n",
    "# print(*[I(run) for run in runs], sep=\"\\n\")"
   ]
  },
  {
   "cell_type": "code",
   "execution_count": 3,
   "metadata": {
    "metadata": {}
   },
   "outputs": [],
   "source": [
    "# I nostri dati\n",
    "DATA = pd.read_csv(\"raw-data.csv\")"
   ]
  },
  {
   "cell_type": "code",
   "execution_count": 4,
   "metadata": {
    "metadata": {}
   },
   "outputs": [],
   "source": [
    "from typing import cast\n",
    "from math import pi as π\n",
    "\n",
    "def runName(run: list[int], take: int):\n",
    "    return f\"p{''.join(map(str, run))}d{take}\" if run else \"0\" # f\"0d{take}\"\n",
    "\n",
    "def runData(run: list[int], take: int):\n",
    "    s = runName(run, take)\n",
    "    Xs = cast(\"pd.Series[float]\", DATA[f\"Time (s) {s}\"])\n",
    "    Ys = cast(\"pd.Series[float]\", DATA[f\"Angle (rad) {s}\"])\n",
    "    return list(Xs), list(Ys)\n",
    "\n",
    "def findZeros(Xs: list[float], Ys: list[float]):\n",
    "    ZeroXs = [x for x, y in zip(Xs, Ys) if abs(y) < 0.001]\n",
    "    zeri: list[float] = []\n",
    "    current_zero: list[float] = []\n",
    "    for x in ZeroXs:\n",
    "        if current_zero:\n",
    "            if abs(x - (current_zero[-1] + 0.001)) < 0.0001:\n",
    "                current_zero.append(x)\n",
    "            else:\n",
    "                zeri.append(sum(current_zero) / len(current_zero))\n",
    "                current_zero.clear()\n",
    "                current_zero.append(x)\n",
    "        else:\n",
    "            current_zero.append(x)\n",
    "    if current_zero:\n",
    "        zeri.append(sum(current_zero) / len(current_zero))\n",
    "        current_zero.clear()\n",
    "    return zeri\n"
   ]
  },
  {
   "cell_type": "code",
   "execution_count": 5,
   "metadata": {
    "metadata": {}
   },
   "outputs": [],
   "source": [
    "# Determina le posizioni dei massimi\n",
    "#   massimo = serie di punti maggiori del precedente e del successivo\n",
    "def massimi(Xs: list[float], Ys: list[float], /, *, dx: float = 1e-3) -> tuple[list[float], list[float], list[float]]:\n",
    "    massimi: list[list[tuple[float, float]]] = []\n",
    "    massimo: list[tuple[float, float]] = []\n",
    "    last_y: float | None = None\n",
    "    for x, y in zip(Xs, Ys):\n",
    "        if (last_y is None) or y > last_y:\n",
    "            # (se c'era) quello prima non era un massimo\n",
    "            # qui inizia un potenziale massimo\n",
    "            massimo.clear()\n",
    "            massimo.append((x, y))\n",
    "        elif y == last_y:\n",
    "            if massimo:\n",
    "                # il potenziale picco continua\n",
    "                massimo.append((x, y))\n",
    "        else:  # y < last_y\n",
    "            if massimo:\n",
    "                # il potenziale picco è finito\n",
    "                #   (ed era davvero un picco)\n",
    "                massimi.append(massimo.copy())\n",
    "                massimo.clear()\n",
    "        last_y = y\n",
    "    if massimo:\n",
    "        # il potenziale picco è finito\n",
    "        #   (ed era davvero un picco)\n",
    "        massimi.append(massimo.copy())\n",
    "    return [sum([p[0] for p in picco])/len(picco) for picco in massimi], [len(picco) * dx for picco in massimi], [picco[0][1] for picco in massimi]\n",
    "\n",
    "# Determina le posizioni dei minimi\n",
    "#   (i minimi di f sono i massimi di -f)\n",
    "def minimi(Xs: list[float], Ys: list[float], /, *, dx: float = 1e-3) -> tuple[list[float], list[float], list[float]]:\n",
    "    MXs, dMXs, MYs = massimi(Xs, [-y for y in Ys], dx=dx)\n",
    "    return MXs, dMXs, [-y for y in MYs]\n",
    "\n",
    "\n",
    "# # Considera un intervallo di dati\n",
    "# a, b = 0, None  # 5000, 100000\n",
    "# Xs = list(cast(\"pd.Series[float]\", data[\"Time (s) p1d3\"]))[a:b]\n",
    "# Ys = list(cast(\"pd.Series[float]\", data[\"Angle (rad) p1d1\"]))[a:b]\n",
    "# XMs, YMs = massimi(Xs, Ys)\n",
    "# Xms, Yms = minimi(Xs, Ys)\n",
    "#\n",
    "# plt.subplot(1, 2, 1)\n",
    "# plt.scatter(Xs, Ys, marker=\".\")\n",
    "# plt.subplot(1, 2, 2)\n",
    "# plt.scatter(XMs, YMs, marker=\".\")\n",
    "# plt.scatter(Xms, Yms, marker=\".\")\n",
    "# plt.show()"
   ]
  },
  {
   "cell_type": "code",
   "execution_count": 6,
   "metadata": {
    "metadata": {}
   },
   "outputs": [
    {
     "name": "stdout",
     "output_type": "stream",
     "text": [
      "Pesetti: <nessuno> (take #1)\n",
      "T = d(best=1.279781818181818, delta=7.272727272727271e-05) s\n",
      "g = d(best=9.751662577824678, delta=0.030069953194826263) m/s²\n",
      "Pesetti: 1 (take #1)\n",
      "T = d(best=1.0304144144144143, delta=1.8018018018018022e-05) s\n",
      "g = d(best=9.772861509805503, delta=0.05841095991400176) m/s²\n",
      "Pesetti: 1 (take #2)\n",
      "T = d(best=1.1777877813504827, delta=1.2861736334405146e-05) s\n",
      "g = d(best=9.7790332932562, delta=0.047790435561215316) m/s²\n",
      "Pesetti: 1 (take #3)\n",
      "T = d(best=1.4223853904282115, delta=1.0075566750629723e-05) s\n",
      "g = d(best=9.728098816989759, delta=0.03545642791315009) m/s²\n",
      "Pesetti: 3 (take #1)\n",
      "T = d(best=1.0909738562091502, delta=2.6143790849673204e-05) s\n",
      "g = d(best=9.779451442959894, delta=0.04597713293356762) m/s²\n",
      "Pesetti: 3 (take #2)\n",
      "T = d(best=1.1253669064748202, delta=1.4388489208633093e-05) s\n",
      "g = d(best=9.777257664316483, delta=0.04412108678259689) m/s²\n",
      "Pesetti: 1, 3 (take #2)\n",
      "T = d(best=1.0516136363636364, delta=9.090909090909092e-05) s\n",
      "g = d(best=9.763916491636241, delta=0.05045894484183582) m/s²\n",
      "Pesetti: 1, 3 (take #3)\n",
      "T = d(best=1.240910256410256, delta=5.128205128205128e-05) s\n",
      "g = d(best=9.757820994962188, delta=0.03569096140247193) m/s²\n",
      "Pesetti: 1, 2 (take #2)\n",
      "T = d(best=1.2121055555555558, delta=2.2222222222222223e-05) s\n",
      "g = d(best=9.746459731745333, delta=0.04018454970171313) m/s²\n"
     ]
    }
   ],
   "source": [
    "estremi_zeri: list[tuple[int, int]] = [ # in secondi\n",
    "    # 0\n",
    "    (4, 40),\n",
    "    (23, 55),   # persi :(\n",
    "    (0, 0),     # persi :(\n",
    "    # p1\n",
    "    (5, 120),\n",
    "    (6, 190),\n",
    "    (17, 300),\n",
    "    # p3\n",
    "    (16, 100),\n",
    "    (18, 175),\n",
    "    (0, 0),     # scartato :|\n",
    "    # p13\n",
    "    (0, 0),     # scartato :|\n",
    "    (16, 40),\n",
    "    (11, 60),\n",
    "    # p12\n",
    "    (0, 0),     # scartato :|\n",
    "    (10, 120),\n",
    "    (80, 120),  # persi :(\n",
    "    # p123\n",
    "    (0, 0),     # scartato :|\n",
    "    (17, 45),\n",
    "    (11, 45),   # non nel file :(\n",
    "]\n",
    "\n",
    "from math import isnan\n",
    "RegXs: list[float] = []\n",
    "RegdXs: list[float] = []\n",
    "RegYs: list[float] = []\n",
    "RegdYs: list[float] = []\n",
    "MinMaxCols: dict[str, list[float]] = {}\n",
    "\n",
    "take = 0\n",
    "for run, _estremi_zeri in zip(runs, estremi_zeri):\n",
    "    take = 1 + take % 3\n",
    "    if {*run} == set() and take != 1:\n",
    "        continue\n",
    "    if {*run} == {1, 2} and take == 3:\n",
    "        continue\n",
    "    if {*run} == {1, 2, 3}:\n",
    "        continue\n",
    "    if _estremi_zeri == (0, 0):\n",
    "        # scartato\n",
    "        continue\n",
    "    print(f\"Pesetti: {', '.join(map(str, run.keys())) if run else '<nessuno>'} (take #{take})\")\n",
    "    Xs, Ys = runData([*run.keys()], take)\n",
    "    # plt.plot(Xs, Ys); plt.show()\n",
    "    zeri = findZeros(Xs, Ys)\n",
    "    # print(zeri)\n",
    "    zeri = [z for z in zeri if _estremi_zeri[0] <= z <= _estremi_zeri[1]]\n",
    "    # print(zeri)\n",
    "    I = dataI(run)\n",
    "    T = (d(zeri[-1] - zeri[0], 2e-3) / (len(zeri) - 1)) * 2\n",
    "    MXcm = dataMX(run)\n",
    "    x = (T/(2*π))**2\n",
    "    y = I / MXcm\n",
    "    RegXs.append(x.best)\n",
    "    RegdXs.append(x.delta)\n",
    "    RegYs.append(y.best)\n",
    "    RegdYs.append(y.delta)\n",
    "    XMs, dXMs, YMs = massimi(Xs, Ys)\n",
    "    Xms, dXms, Yms = minimi(Xs, Ys)\n",
    "    XMs, dXMs, YMs = XMs[1:], dXMs[1:], YMs[1:]\n",
    "    Xms, dXms, Yms = Xms[1:], dXms[1:], Yms[1:]\n",
    "    _Mbl = [y for y in YMs if not isnan(y)][-1]\n",
    "    _mbl = [y for y in Yms if not isnan(y)][-1]\n",
    "    baseline = (_Mbl + _mbl)/2\n",
    "    YMs = [y - baseline for y in YMs]\n",
    "    Yms = [y - baseline for y in Yms]\n",
    "    _s = runName([*run.keys()], take)\n",
    "    MinMaxCols[f\"{_s}!min.x\"] = Xms\n",
    "    MinMaxCols[f\"{_s}!δ(min.x)\"] = dXms\n",
    "    MinMaxCols[f\"{_s}!min.y\"] = Yms\n",
    "    MinMaxCols[f\"{_s}!δ(min.y)\"] = [0.02]*len(Yms)\n",
    "    MinMaxCols[f\"{_s}!max.x\"] = XMs\n",
    "    MinMaxCols[f\"{_s}!δ(max.x)\"] = dXMs\n",
    "    MinMaxCols[f\"{_s}!max.y\"] = YMs\n",
    "    MinMaxCols[f\"{_s}!δ(max.y)\"] = [0.02]*len(YMs)\n",
    "    g = y / x\n",
    "    print(\"T =\", T, \"s\")\n",
    "    print(\"g =\", g, \"m/s²\")\n",
    "\n",
    "RegDF = pd.DataFrame({\n",
    "    \"T²/4π²\": RegXs,\n",
    "    \"δ(T²/4π²)\": RegdXs,\n",
    "    \"I/MD\": RegYs,\n",
    "    \"δ(I/MD)\": RegdYs,\n",
    "})\n",
    "RegDF.to_csv(\"regressione.csv\", index=False)\n",
    "_l = max(len(v) for v in MinMaxCols.values())\n",
    "MinMaxCols = {k: v + [math.nan] * (_l - len(v)) for k, v in MinMaxCols.items()}\n",
    "pd.DataFrame.from_dict(MinMaxCols).to_csv(\"picchi2.csv\", index=False)"
   ]
  },
  {
   "cell_type": "code",
   "execution_count": 7,
   "metadata": {
    "metadata": {}
   },
   "outputs": [],
   "source": [
    "from collections.abc import Callable\n",
    "\n",
    "def retta(A: tuple[float, float], B: tuple[float, float]) -> Callable[[float], float]:\n",
    "    m, x0, y0 = (B[1] - A[1]) / (B[0] - A[0]), A[0], A[1]\n",
    "    def y(x: float) -> float: return m * (x - x0) + y0\n",
    "    return y\n",
    "\n",
    "def y_err_sul_picco(prec: tuple[float, float], picco: tuple[float, float], succ: tuple[float, float]) -> float:\n",
    "    # se prec e succ sono massimi, allora picco è minimo (e viceversa). Per questo dobbiamo sommare e non sottrarre\n",
    "    return (retta(prec, succ)(picco[0]) + picco[1])/2\n",
    "\n",
    "def y_err_sul_punto(YerrsPicchi: list[tuple[float, float]], x: float) -> float:\n",
    "    # NOTA: Le x dei picchi sono già ordinate\n",
    "    i: float | None = None  # indice del picco successivo ad x\n",
    "    for _i, (Px, _) in enumerate(YerrsPicchi):\n",
    "        if Px > x:\n",
    "            i = _i\n",
    "            break\n",
    "    # print(i)\n",
    "    if i is None or i == 0: return 0.\n",
    "    return retta(YerrsPicchi[i-1], YerrsPicchi[i])(x)\n",
    "\n",
    "# picchi = sorted([*zip(XMs, YMs), *zip(Xms, Yms)], key=lambda x: x[0])\n",
    "# YerrsPicchi = [(picchi[i][0], y_err_sul_picco(picchi[i-1], picchi[i], picchi[i+1])) for i in range(1, len(picchi) - 1)]\n",
    "# Yerrs = [y_err_sul_punto(YerrsPicchi, x) for x in Xs]\n",
    "# Ys2 = [y - yerr for y, yerr in zip(Ys, Yerrs)]\n"
   ]
  },
  {
   "cell_type": "code",
   "execution_count": 8,
   "metadata": {
    "metadata": {}
   },
   "outputs": [],
   "source": [
    "# plt.subplot(1, 2, 1)\n",
    "# plt.scatter(Xs, Ys, marker=\".\")\n",
    "# plt.subplot(1, 2, 2)\n",
    "# plt.scatter(XMs, YMs, marker=\".\")\n",
    "# plt.scatter(Xms, Yms, marker=\".\")\n",
    "# plt.show()"
   ]
  },
  {
   "cell_type": "code",
   "execution_count": 9,
   "metadata": {
    "metadata": {}
   },
   "outputs": [],
   "source": [
    "# plt.subplot(1, 2, 1)\n",
    "# plt.scatter(Xs, Ys2, marker=\".\")\n",
    "# plt.subplot(1, 2, 2)\n",
    "# plt.scatter(*massimi(Xs, Ys2), marker=\".\")\n",
    "# plt.scatter(*minimi(Xs, Ys2), marker=\".\")\n",
    "# plt.show()"
   ]
  },
  {
   "cell_type": "code",
   "execution_count": 10,
   "metadata": {
    "metadata": {}
   },
   "outputs": [],
   "source": [
    "# plt.subplot(1, 2, 1)\n",
    "# plt.scatter([x for x, _ in YerrsPicchi], [y for _, y in YerrsPicchi], marker=\".\")\n",
    "# plt.subplot(1, 2, 2)\n",
    "# plt.scatter(Xs, Yerrs, marker=\".\")\n",
    "# plt.show()"
   ]
  },
  {
   "cell_type": "code",
   "execution_count": 11,
   "metadata": {
    "metadata": {}
   },
   "outputs": [
    {
     "ename": "ValueError",
     "evalue": "too many values to unpack (expected 2)",
     "output_type": "error",
     "traceback": [
      "\u001b[0;31m---------------------------------------------------------------------------\u001b[0m",
      "\u001b[0;31mValueError\u001b[0m                                Traceback (most recent call last)",
      "Cell \u001b[0;32mIn[11], line 5\u001b[0m\n\u001b[1;32m      3\u001b[0m Xs, Ys \u001b[38;5;241m=\u001b[39m Xs[\u001b[38;5;241m16_000\u001b[39m:\u001b[38;5;241m100_000\u001b[39m], Ys[\u001b[38;5;241m16_000\u001b[39m:\u001b[38;5;241m100_000\u001b[39m]\n\u001b[1;32m      4\u001b[0m \u001b[38;5;66;03m# plt.plot(Xs, Ys)\u001b[39;00m\n\u001b[0;32m----> 5\u001b[0m XMs, YMs \u001b[38;5;241m=\u001b[39m massimi(Xs, Ys)\n\u001b[1;32m      6\u001b[0m Xms, Yms \u001b[38;5;241m=\u001b[39m minimi(Xs, Ys)\n\u001b[1;32m      7\u001b[0m XMs, YMs \u001b[38;5;241m=\u001b[39m XMs[\u001b[38;5;241m1\u001b[39m:], YMs[\u001b[38;5;241m1\u001b[39m:]\n",
      "\u001b[0;31mValueError\u001b[0m: too many values to unpack (expected 2)"
     ]
    }
   ],
   "source": [
    "from math import isnan\n",
    "Xs, Ys = runData([3], 1)\n",
    "Xs, Ys = Xs[16_000:100_000], Ys[16_000:100_000]\n",
    "# plt.plot(Xs, Ys)\n",
    "XMs, YMs = massimi(Xs, Ys)\n",
    "Xms, Yms = minimi(Xs, Ys)\n",
    "XMs, YMs = XMs[1:], YMs[1:]\n",
    "_Mbl = [y for y in YMs if not isnan(y)][-1]\n",
    "_mbl = [y for y in Yms if not isnan(y)][-1]\n",
    "baseline = (_Mbl + _mbl)/2\n",
    "YMs = [y - baseline for y in YMs]\n",
    "Yms = [y - baseline for y in Yms]\n",
    "# print(Xs, Ys)\n",
    "plt.scatter(Xms, Yms)\n",
    "plt.scatter(XMs, YMs)\n",
    "plt.show()"
   ]
  },
  {
   "cell_type": "code",
   "execution_count": null,
   "metadata": {
    "metadata": {}
   },
   "outputs": [
    {
     "data": {
      "image/png": "[encoded data removed]",
      "text/plain": [
       "<Figure size 640x480 with 1 Axes>"
      ]
     },
     "metadata": {},
     "output_type": "display_data"
    }
   ],
   "source": [
    "from math import log\n",
    "LogYMs = [log(y) for y in YMs]\n",
    "LogYms = [log(-y) for y in Yms]\n",
    "\n",
    "pd.DataFrame({\n",
    "    \"Tempi (p3d1)\": XMs,\n",
    "    \"Picchi (p3d1)\": LogYMs,\n",
    "}).to_csv(\"picchi.csv\")\n",
    "plt.scatter(Xms, LogYms)\n",
    "plt.scatter(XMs, LogYMs)\n",
    "plt.show()"
   ]
  },
  {
   "cell_type": "code",
   "execution_count": null,
   "metadata": {
    "metadata": {}
   },
   "outputs": [],
   "source": []
  }
 ],
 "metadata": {
  "kernelspec": {
   "display_name": ".venv",
   "language": "python",
   "name": "python3"
  },
  "language_info": {
   "codemirror_mode": {
    "name": "ipython",
    "version": 3
   },
   "file_extension": ".py",
   "mimetype": "text/x-python",
   "name": "python",
   "nbconvert_exporter": "python",
   "pygments_lexer": "ipython3",
   "version": "3.12.4"
  }
 },
 "nbformat": 4,
 "nbformat_minor": 2
}
