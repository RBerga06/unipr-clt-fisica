{
 "cells": [
  {
   "cell_type": "code",
   "execution_count": 5,
   "metadata": {},
   "outputs": [],
   "source": [
    "from rberga06.phylab import Datum as d"
   ]
  },
  {
   "cell_type": "code",
   "execution_count": 8,
   "metadata": {},
   "outputs": [
    {
     "name": "stdout",
     "output_type": "stream",
     "text": [
      "γ(azoto) = -1.78173779e-05 ± 6.23856959059e-07\n"
     ]
    }
   ],
   "source": [
    "gammas = {name: (b - (a1 + a2)/2)/1000 for name, (a1, b, a2) in {\n",
    "    \"azoto\": (d(-0.0591895366, 5.4282789853E-4), d(-0.0830566147, 5.3391225609E-5), d(-0.071288937, 5.9810356837E-4))\n",
    "}.items()}\n",
    "for name, gamma in gammas.items():\n",
    "    print(f\"γ({name}) = {gamma}\")\n"
   ]
  },
  {
   "cell_type": "code",
   "execution_count": 12,
   "metadata": {},
   "outputs": [
    {
     "name": "stdout",
     "output_type": "stream",
     "text": [
      "301.17113921684285 ± 11.647488886013596 kJ/kg\n"
     ]
    }
   ],
   "source": [
    "# Azoto liquido\n",
    "DeltaV = d(3.28, 0.01)  # V\n",
    "I = d(1.636, 0.001)  # A\n",
    "lambda_azoto = (DeltaV * I)/(-gammas[\"azoto\"])\n",
    "print(lambda_azoto/1000, \"kJ/kg\")"
   ]
  },
  {
   "cell_type": "code",
   "execution_count": 13,
   "metadata": {},
   "outputs": [],
   "source": [
    "# Campioni\n",
    "T_amb = d(25, 1)  # °C\n",
    "T_azoto = d(-196, 1)  # K\n",
    "dT = T_amb - T_azoto  # K\n",
    "\n",
    "Ms = {\n",
    "    \"ottone\": d(28.73, 0.01)/1000,  # kg\n",
    "    \"piombo\": d(27.25, 0.01)/1000,  # kg\n",
    "    \"alluminio\": d(10.46, 0.01)/1000,  # kg\n",
    "    \"rame\": d(15.55, 0.01)/1000,    # kg\n",
    "}\n",
    "dts = {\n",
    "    #\n",
    "}\n",
    "\n",
    "for name in gammas:\n",
    "    if name == \"azoto\": continue\n",
    "    print(f\"--- {name} ---\")\n",
    "    print(f\" γ = {(gamma := gammas[name])} kg/s\")\n",
    "    print(f\"∆t = {(dt := dts[name])} s\")\n",
    "    print(f\" m = {(m := Ms[name])} kg\")\n",
    "    print(f\" c = {(c := (lambda_azoto * gamma * dt)/(m * dT))} J/(kg K)\")\n"
   ]
  },
  {
   "cell_type": "code",
   "execution_count": null,
   "metadata": {},
   "outputs": [],
   "source": []
  }
 ],
 "metadata": {
  "kernelspec": {
   "display_name": "default",
   "language": "python",
   "name": "python3"
  },
  "language_info": {
   "codemirror_mode": {
    "name": "ipython",
    "version": 3
   },
   "file_extension": ".py",
   "mimetype": "text/x-python",
   "name": "python",
   "nbconvert_exporter": "python",
   "pygments_lexer": "ipython3",
   "version": "3.12.4"
  }
 },
 "nbformat": 4,
 "nbformat_minor": 2
}
