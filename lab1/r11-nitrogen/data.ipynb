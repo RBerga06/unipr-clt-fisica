{
 "cells": [
  {
   "cell_type": "code",
   "execution_count": 2,
   "metadata": {},
   "outputs": [],
   "source": [
    "from rberga06.phylab import Datum as d"
   ]
  },
  {
   "cell_type": "code",
   "execution_count": 3,
   "metadata": {},
   "outputs": [
    {
     "name": "stdout",
     "output_type": "stream",
     "text": [
      "γ(azoto1) = -1.78173779e-05 ± 6.23856959059e-07\n",
      "γ(azoto2) = -2.2697290099999998e-05 ± 5.1427884552e-07\n",
      "γ(rame) = -6.30892146e-05 ± 5.30379262582e-07\n",
      "γ(ottone) = -9.171593385000001e-05 ± 2.73004555366e-06\n",
      "γ(alluminio) = -9.14415509e-05 ± 4.174810154145e-07\n",
      "γ(piombo) = -3.4694209399999995e-05 ± 6.598634299999999e-06\n"
     ]
    }
   ],
   "source": [
    "gammas = {name: (b - (a1 + a2)/2)/1000 for name, (a1, b, a2) in {\n",
    "    \"azoto1\": (d(-0.0591895366, 5.4282789853E-4), d(-0.0830566147, 5.3391225609E-5), d(-0.071288937, 5.9810356837E-4)),\n",
    "    \"azoto2\": (d(-0.0541292072, 6.4404267448e-4), d(-0.0782790392, 6.849070527e-5), d(-0.057034291, 2.4753360602e-4)),\n",
    "    \"rame\": (d(-0.0526676473, 3.9604913938e-4), d(-0.116361916, 9.3590512202e-5), d(-0.0538777555, 4.7752836138e-4)),\n",
    "    \"ottone\": (d(-0.0759005361, 0.0033429528), d(-0.1644052168, 9.9007917221e-4), d(-0.0694780298, 1.369799629e-4)),\n",
    "    \"alluminio\": (d(-0.0586753809, 5.9769361818e-4), d(-0.1520101016, 9.2381201662e-5), d(-0.0624617205, 5.2506009325e-5)),\n",
    "    \"piombo\": (d(-0.0852980295, 0.0088050876), d(-0.1173852344, 0.001110297), d(-0.0800840205, 0.002171587)),\n",
    "}.items()}\n",
    "for name, gamma in gammas.items():\n",
    "    print(f\"γ({name}) = {gamma}\")\n"
   ]
  },
  {
   "cell_type": "code",
   "execution_count": 4,
   "metadata": {},
   "outputs": [
    {
     "name": "stdout",
     "output_type": "stream",
     "text": [
      "299.84892445930547 ± 11.600384711506518 kJ/kg\n",
      "235.3814740201078 ± 6.197978353189262 kJ/kg\n"
     ]
    }
   ],
   "source": [
    "# Azoto liquido\n",
    "# DeltaV_1 = d(3.28, 0.01)  # V\n",
    "DeltaV = d(3.2656, 0.01)  # V\n",
    "I = d(1.636, 0.001)  # A\n",
    "P = DeltaV * I\n",
    "lambda_azoto_1 = P/(-gammas[\"azoto1\"])\n",
    "print(lambda_azoto_1/1000, \"kJ/kg\")\n",
    "#\n",
    "lambda_azoto_2 = P/(-gammas[\"azoto2\"])\n",
    "print(lambda_azoto_2/1000, \"kJ/kg\")\n",
    "\n",
    "lambda_azoto = lambda_azoto_2"
   ]
  },
  {
   "cell_type": "code",
   "execution_count": 42,
   "metadata": {},
   "outputs": [
    {
     "name": "stdout",
     "output_type": "stream",
     "text": [
      "--- rame ---\n",
      " γ = -6.30892146e-05 ± 5.30379262582e-07 kg/s\n",
      "∆t = 73.75 ± 3.75 s\n",
      " m = 0.015550000000000001 ± 1e-05 kg\n",
      " c = 407.7630135489423 ± 43.88391191353042 J/(kg K)\n",
      "--- ottone ---\n",
      " γ = -9.171593385000001e-05 ± 2.73004555366e-06 kg/s\n",
      "∆t = 89.81 ± 5.1 s\n",
      " m = 0.028730000000000002 ± 1e-05 kg\n",
      " c = 390.71037240797534 ± 52.5992650397524 J/(kg K)\n",
      "--- alluminio ---\n",
      " γ = -9.14415509e-05 ± 4.174810154145e-07 kg/s\n",
      "∆t = 73.53 ± 1.33 s\n",
      " m = 0.01046 ± 1e-05 kg\n",
      " c = 875.9867613837334 ± 62.48693009264442 J/(kg K)\n",
      "--- piombo ---\n",
      " γ = -3.4694209399999995e-05 ± 6.598634299999999e-06 kg/s\n",
      "∆t = 61.64 ± 2.63 s\n",
      " m = 0.02725 ± 1e-05 kg\n",
      " c = 106.94837664445545 ± 30.047354290220007 J/(kg K)\n"
     ]
    }
   ],
   "source": [
    "# Campioni\n",
    "T_amb = d(25, 1)  # °C\n",
    "T_azoto = d(-196, 1)  # °C\n",
    "dT = T_amb - T_azoto  # K\n",
    "\n",
    "Ms = {\n",
    "    \"ottone\": d(28.73, 0.01)/1000,  # kg\n",
    "    \"piombo\": d(27.25, 0.01)/1000,  # kg\n",
    "    \"alluminio\": d(10.46, 0.01)/1000,  # kg\n",
    "    \"rame\": d(15.55, 0.01)/1000,    # kg\n",
    "}\n",
    "dts = {\n",
    "    \"rame\": d(95.01, 2.51) - d(21.26, 1.24),  # s\n",
    "    \"ottone\": d(125.01, 5.00) - d(35.2, 0.1), # s\n",
    "    \"alluminio\": d(91.23, 1.23) - d(17.7, 0.1),  # s\n",
    "    \"piombo\": d(74.94, 2.53) - d(13.3, 0.1)  # s\n",
    "}\n",
    "\n",
    "for name in gammas:\n",
    "    if name.startswith(\"azoto\"): continue\n",
    "    print(f\"--- {name} ---\")\n",
    "    print(f\" γ = {(gamma := gammas[name])} kg/s\")\n",
    "    print(f\"∆t = {(dt := dts[name])} s\")\n",
    "    print(f\" m = {(m := Ms[name])} kg\")\n",
    "    print(f\" c = {(c := (lambda_azoto_1 * (-gamma) * dt)/(m * dT))} J/(kg K)\")\n"
   ]
  },
  {
   "cell_type": "code",
   "execution_count": null,
   "metadata": {},
   "outputs": [],
   "source": []
  }
 ],
 "metadata": {
  "kernelspec": {
   "display_name": "default",
   "language": "python",
   "name": "python3"
  },
  "language_info": {
   "codemirror_mode": {
    "name": "ipython",
    "version": 3
   },
   "file_extension": ".py",
   "mimetype": "text/x-python",
   "name": "python",
   "nbconvert_exporter": "python",
   "pygments_lexer": "ipython3",
   "version": "3.12.4"
  }
 },
 "nbformat": 4,
 "nbformat_minor": 2
}
