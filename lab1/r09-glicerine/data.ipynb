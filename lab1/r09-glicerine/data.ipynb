{
 "cells": [
  {
   "cell_type": "markdown",
   "metadata": {},
   "source": [
    "### Modelli teorici utilizzati:\n",
    "* **viscosità**: ... (indicato dal prof)\n",
    "* **densità**: [Density model for aqueous glycerol solutions](https://link.springer.com/article/10.1007/s00348-018-2527-y) (trovato da noi)"
   ]
  },
  {
   "cell_type": "code",
   "execution_count": 108,
   "metadata": {},
   "outputs": [],
   "source": [
    "from rberga06.phylab import Datum as d, Measure\n",
    "import math\n",
    "import sympy\n",
    "from typing import Any, Iterable\n",
    "from itertools import count\n",
    "sympy.init_printing()\n",
    "\n",
    "def abs_(x: Measure[float]) -> Measure[float]:\n",
    "    return d(abs(x.best), x.delta)\n",
    "\n",
    "def sin(x: Measure[float]) -> Measure[float]:\n",
    "    return d(math.sin(x.best), abs(math.cos(x.best)) * x.delta)\n",
    "\n",
    "def exp(x: Measure[float]) -> Measure[float]:\n",
    "    e_x = math.exp(x.best)\n",
    "    return d(e_x, e_x * x.delta)\n",
    "\n",
    "def ln(x: Measure[float]) -> Measure[float]:\n",
    "    return d(math.log(x.best), x.delta_rel)\n",
    "\n",
    "def expr_delta(expr: Any, symbols: Iterable[sympy.Symbol], /) -> Any:\n",
    "    return sympy.sqrt(sum([(expr.diff(x) * sympy.Symbol(f\"(\\\\delta {x})\"))**2 for x in symbols], start=sympy.Integer(0)))\n",
    "\n",
    "def evalf(expr: Any, subs: dict[sympy.Symbol, Measure[float]], /, *, delta: Any = None) -> Measure[float]:\n",
    "    best_subs = {x: X.best for x, X in subs.items()}\n",
    "    delta_subs = {sympy.Symbol(f\"(\\\\delta {x})\"): X.delta for x, X in subs.items()}\n",
    "    if delta is None:\n",
    "        delta = expr_delta(expr, subs)\n",
    "    return d(expr.evalf(subs=best_subs), delta.evalf(subs=best_subs | delta_subs))"
   ]
  },
  {
   "cell_type": "markdown",
   "metadata": {},
   "source": [
    "$$\\alpha = 1 - x + \\frac{abx(1-x)}{ax+b(1-x)}$$\n",
    "$$(ax+b(1-x))\\alpha = (ax+b(1-x))(1-x) + abx(1-x)$$\n",
    "$$a\\alpha x+b\\alpha(1-x) = ax(1-x) + b(1-x)^2 + abx(1-x)$$\n",
    "$$a\\alpha x+b\\alpha-b\\alpha x = ax-ax^2 + b+bx^2-2bx + abx-abx^2$$\n",
    "$$(a - b + ab) x^2 + (a\\alpha-b\\alpha - a + 2b - ab) x + b\\alpha - b = 0$$"
   ]
  },
  {
   "cell_type": "code",
   "execution_count": 109,
   "metadata": {},
   "outputs": [],
   "source": [
    "def eta_water(T: Measure[float], /) -> Measure[float]:  # mPa s\n",
    "    return 1.79 * exp((-1230 - T)*T/(36100 + 360 * T))\n",
    "\n",
    "def eta_glycerol(T: Measure[float], /) -> Measure[float]:   # mPa s\n",
    "    return 12100 * exp((-1233 - T)*T/(9900 + 70 * T))\n",
    "\n",
    "def rho_water(T: Measure[float], /) -> Measure[float]:   # kg / m^3\n",
    "    return 1000 * (1 - abs_((T - 3.98)/615)**1.71)\n",
    "\n",
    "def rho_glycerol(T: Measure[float], /) -> Measure[float]:   # kg/m^3\n",
    "    return (1273 - 0.612 * T)\n",
    "\n",
    "def _kappa_solution(T: Measure[float], w_g: Measure[float], /) -> Measure[float]:\n",
    "    A = (1.78e-6 * T**2 - 1.82e-4 * T + 1.41e-2)\n",
    "    return 1 + A * sin(w_g ** 1.31 * math.pi) ** 0.81\n",
    "\n",
    "def rho_solution(T: Measure[float], w_g: Measure[float], /) -> Measure[float]:  # g/dm^3\n",
    "    rho_w = rho_water(T)\n",
    "    rho_g = rho_glycerol(T)\n",
    "    # w_g: concentrazione massa/massa\n",
    "    return _kappa_solution(T, w_g) * (rho_w + (rho_g - rho_w)/(1 + (rho_g/rho_w) * (1/w_g - 1)))\n",
    "\n",
    "\n",
    "def _solve_alpha2wg() -> tuple[Any, Any, Any, Any]:\n",
    "    T, alpha, x, a, b = sympy.symbols(\"T \\\\alpha x a b\")\n",
    "    equation = (1 - x) + (a * b * x * (1 - x))/(a * x + b * (1 - x)) - alpha\n",
    "    x1, x2 = sympy.solve(equation, x)\n",
    "    a_expr = 0.705 - 0.0017 * T\n",
    "    b_expr = ((4.9 + 0.036 * T) * a ** 2.5).subs({a: a_expr})\n",
    "    x1 = x1.subs({a: a_expr, b: b_expr})\n",
    "    x2 = x2.subs({a: a_expr, b: b_expr})\n",
    "    return x1, expr_delta(x1, [T, alpha]), x2, expr_delta(x2, [T, alpha])\n",
    "_SOLUTIONS_ALPHA2WG = _solve_alpha2wg()\n",
    "\n",
    "def alpha2wg(T: Measure[float], alpha: Measure[float]) -> Measure[float]:\n",
    "    _T, _alpha = sympy.symbols(\"T \\\\alpha\")\n",
    "    _x1, _x1delta, _x2, _x2delta = _SOLUTIONS_ALPHA2WG\n",
    "    x1 = evalf(_x1, {_T: T, _alpha: alpha}, delta=_x1delta)\n",
    "    x2 = evalf(_x2, {_T: T, _alpha: alpha}, delta=_x2delta)\n",
    "    # old code\n",
    "    if False:\n",
    "        a = 0.705 - 0.0017 * T\n",
    "        b = (4.9+0.036 * T) * a**2.5\n",
    "        A = (a - b + a*b)\n",
    "        B = (a * alpha - b * alpha - a + 2*b - a*b)\n",
    "        Delta = B**2 - 4*A*(b*alpha - b)\n",
    "        x1 = (-B + Delta ** .5)/(2*A)\n",
    "        x2 = (-B - Delta ** .5)/(2*A)\n",
    "    return min(x1, x2, key=lambda x: x.best)\n"
   ]
  },
  {
   "cell_type": "markdown",
   "metadata": {},
   "source": [
    "$$v=\\frac{2}{9}(\\rho_s - \\rho_f) \\frac{R^2}{\\eta} g$$\n",
    "$$R^2 = \\xi v$$\n",
    "$$R^2 = \\frac{1}{\\frac{2}{9}(\\rho_s - \\rho_f) \\frac{g}{\\eta}} v$$\n",
    "$$\\xi = \\frac{9\\eta}{2(\\rho_s - \\rho_f) g}$$\n",
    "$$\\frac{2(\\rho_s - \\rho_f) g \\xi}{9} = \\eta$$"
   ]
  },
  {
   "cell_type": "code",
   "execution_count": 6,
   "metadata": {},
   "outputs": [],
   "source": [
    "g = d(9.806, 0.01)  # m/s^2\n",
    "rho_sfere = d(7713, 45)  # kg/m^3\n",
    "\n",
    "def analysis(T: Measure[float], xi: Measure[float], best_threshold: float = 1e-3) -> Measure[float]:\n",
    "    print(\"T =\", T, \"°C\")\n",
    "    print(\"ξ =\", xi)\n",
    "    print(\"η(acqua) =\", _eta_water := eta_water(T), \"mPa s\")\n",
    "    print(\"η(glicerina) =\", _eta_glycerol := eta_glycerol(T), \"mPa s\")\n",
    "    print(\"⍴(acqua) =\", rho_water(T), \"kg/m³\")\n",
    "    print(\"⍴(glicerina) =\", _rho_glycerol := rho_glycerol(T), \"kg/m³\")\n",
    "    ln_eta_water = ln(_eta_water)\n",
    "    ln_eta_glycerol = ln(_eta_glycerol)\n",
    "    ln_diff = (ln_eta_water - ln_eta_glycerol)\n",
    "    rho_sol = _rho_glycerol  # kg/m^3\n",
    "    last_rho_sol_best = rho_sol.best\n",
    "    for i in count(1):\n",
    "        print(f\"Iterazione {i}:\")\n",
    "        print(\" con ⍴ =\", rho_sol, \"kg/m³\")\n",
    "        eta_sol = (2/9) * (rho_sfere - rho_sol) * g * xi * 10**3   # mPa s\n",
    "        print(\" -> η =\", eta_sol, \"mPa s\")\n",
    "        alpha = (ln(eta_sol) - ln_eta_glycerol)/ln_diff\n",
    "        print(\" -> ⍺ =\", alpha)\n",
    "        cm = alpha2wg(T, alpha)\n",
    "        print(f\" -> c = {cm*100}% m/s\")\n",
    "        rho_sol = rho_solution(T, cm)\n",
    "        print(\" -> ⍴ =\", rho_sol, \"kg/m³\")\n",
    "        if abs(rho_sol.best - last_rho_sol_best) <= best_threshold:\n",
    "            break\n",
    "        last_rho_sol_best = rho_sol.best\n",
    "    return rho_sol\n"
   ]
  },
  {
   "cell_type": "code",
   "execution_count": 7,
   "metadata": {},
   "outputs": [
    {
     "name": "stdout",
     "output_type": "stream",
     "text": [
      "--- Giorno 1 ---\n",
      "T = 24.6 ± 0.2 °C\n",
      "ξ = 1.82296746e-05 ± 6.6444977398e-08\n",
      "η(acqua) = 0.9009516878253878 ± 0.006117825638836887 mPa s\n",
      "η(glicerina) = 844.7408641908731 ± 21.347989296290336 mPa s\n",
      "⍴(acqua) = 996.9907576701406 ± 0.04991080876876254 kg/m³\n",
      "⍴(glicerina) = 1257.9448 ± 0.12240000000000001 kg/m³\n",
      "Iterazione 1:\n",
      " con ⍴ = 1257.9448 ± 0.12240000000000001 kg/m³\n",
      " -> η = 256.4237529735773 ± 2.988594782528412 mPa s\n",
      " -> ⍺ = 0.17421312876759923 ± 0.0062122031543937655\n"
     ]
    },
    {
     "name": "stdout",
     "output_type": "stream",
     "text": [
      " -> c = 93.5605863290863 ± 0.260710918069600% m/s\n",
      " -> ⍴ = 1241.53018353832 ± 1.20820559239222 kg/m³\n",
      "Iterazione 2:\n",
      " con ⍴ = 1241.53018353832 ± 1.20820559239222 kg/m³\n",
      " -> η = 257.075815183165 ± 3.03476950312097 mPa s\n",
      " -> ⍺ = 0.1738420112376056 ± 0.00623239129942674\n",
      " -> c = 93.5761566997101 ± 0.261407529070465% m/s\n",
      " -> ⍴ = 1241.57154122762 ± 1.21095214014362 kg/m³\n",
      "Iterazione 3:\n",
      " con ⍴ = 1241.57154122762 ± 1.21095214014362 kg/m³\n",
      " -> η = 257.074172270196 ± 3.03487094468322 mPa s\n",
      " -> ⍺ = 0.17384294510887677 ± 0.00623246436111109\n",
      " -> c = 93.5761175300572 ± 0.261410972399767% m/s\n",
      " -> ⍴ = 1241.57143718886 ± 1.21096464005990 kg/m³\n",
      "Iterazione 4:\n",
      " con ⍴ = 1241.57143718886 ± 1.21096464005990 kg/m³\n",
      " -> η = 257.074176403082 ± 3.03487146051449 mPa s\n",
      " -> ⍺ = 0.1738429427596375 ± 0.00623246461558261\n",
      " -> c = 93.5761176285922 ± 0.261410982119996% m/s\n",
      " -> ⍴ = 1241.57143745058 ± 1.21096467728833 kg/m³\n",
      "Iterazione 5:\n",
      " con ⍴ = 1241.57143745058 ± 1.21096467728833 kg/m³\n",
      " -> η = 257.074176392686 ± 3.03487146194488 mPa s\n",
      " -> ⍺ = 0.1738429427655471 ± 0.00623246461649314\n",
      " -> c = 93.5761176283443 ± 0.261410982160584% m/s\n",
      " -> ⍴ = 1241.57143744993 ± 1.21096467743766 kg/m³\n",
      "Iterazione 6:\n",
      " con ⍴ = 1241.57143744993 ± 1.21096467743766 kg/m³\n",
      " -> η = 257.074176392712 ± 3.03487146195093 mPa s\n",
      " -> ⍺ = 0.1738429427655323 ± 0.00623246461649633\n",
      " -> c = 93.5761176283449 ± 0.261410982160712% m/s\n",
      " -> ⍴ = 1241.57143744993 ± 1.21096467743814 kg/m³\n"
     ]
    }
   ],
   "source": [
    "# NOTA: T è in °C\n",
    "# T1_piccole = d(24.8, 0.2)\n",
    "T1 = d(24.6, 0.2)   # °C\n",
    "xi1 = d(1.822967460e-5, 6.6444977398e-8)\n",
    "print(\"--- Giorno 1 ---\")\n",
    "rho1 = analysis(T1, xi1, best_threshold=1e-10)"
   ]
  },
  {
   "cell_type": "code",
   "execution_count": 8,
   "metadata": {},
   "outputs": [
    {
     "name": "stdout",
     "output_type": "stream",
     "text": [
      "--- Giorno 2 ---\n",
      "T = 19.4 ± 0.2 °C\n",
      "ξ = 2.6374145872e-05 ± 9.5797126107e-08\n",
      "η(acqua) = 1.0198258016822541 ± 0.006965464972506146 mPa s\n",
      "η(glicerina) = 1398.0045823591865 ± 35.33807802114838 mPa s\n",
      "⍴(acqua) = 998.1691707971398 ± 0.04060593951868824 kg/m³\n",
      "⍴(glicerina) = 1261.1272 ± 0.12240000000000001 kg/m³\n",
      "Iterazione 1:\n",
      " con ⍴ = 1261.1272 ± 0.12240000000000001 kg/m³\n",
      " -> η = 370.8032872620404 ± 4.318267633461683 mPa s\n",
      " -> ⍺ = 0.18373229721313852 ± 0.005928480585016183\n"
     ]
    },
    {
     "name": "stdout",
     "output_type": "stream",
     "text": [
      " -> c = 93.1710194049245 ± 0.251638726135034% m/s\n",
      " -> ⍴ = 1243.72560825954 ± 1.16558273120656 kg/m³\n",
      "Iterazione 2:\n",
      " con ⍴ = 1243.72560825954 ± 1.16558273120656 kg/m³\n",
      " -> η = 371.803394923951 ± 4.38287415489932 mPa s\n",
      " -> ⍺ = 0.18335939894920958 ± 0.00594654285379272\n",
      " -> c = 93.1868427704386 ± 0.252260015162105% m/s\n",
      " -> ⍴ = 1243.76770258301 ± 1.16807431983722 kg/m³\n",
      "Iterazione 3:\n",
      " con ⍴ = 1243.76770258301 ± 1.16807431983722 kg/m³\n",
      " -> η = 371.800975670813 ± 4.38300609755138 mPa s\n",
      " -> ⍺ = 0.18336029977658705 ± 0.00594660660717897\n",
      " -> c = 93.1868045561943 ± 0.252263070700363% m/s\n",
      " -> ⍴ = 1243.76760092591 ± 1.16808551135548 kg/m³\n",
      "Iterazione 4:\n",
      " con ⍴ = 1243.76760092591 ± 1.16808551135548 kg/m³\n",
      " -> η = 371.800981513270 ± 4.38300676793171 mPa s\n",
      " -> ⍺ = 0.18336029760109662 ± 0.00594660682148484\n",
      " -> c = 93.1868046484814 ± 0.252263078943720% m/s\n",
      " -> ⍴ = 1243.76760117141 ± 1.16808554334088 kg/m³\n",
      "Iterazione 5:\n",
      " con ⍴ = 1243.76760117141 ± 1.16808554334088 kg/m³\n",
      " -> η = 371.800981499160 ± 4.38300676970435 mPa s\n",
      " -> ⍺ = 0.18336029760635042 ± 0.00594660682223019\n",
      " -> c = 93.1868046482586 ± 0.252263078977385% m/s\n",
      " -> ⍴ = 1243.76760117082 ± 1.16808554346601 kg/m³\n",
      "Iterazione 6:\n",
      " con ⍴ = 1243.76760117082 ± 1.16808554346601 kg/m³\n",
      " -> η = 371.800981499195 ± 4.38300676971170 mPa s\n",
      " -> ⍺ = 0.18336029760633776 ± 0.00594660682223272\n",
      " -> c = 93.1868046482591 ± 0.252263078977488% m/s\n",
      " -> ⍴ = 1243.76760117082 ± 1.16808554346640 kg/m³\n"
     ]
    }
   ],
   "source": [
    "xi2 = d(2.6374145872e-5, 9.5797126107e-8)\n",
    "T2 = d(19.4, 0.2)   # °C\n",
    "print(\"--- Giorno 2 ---\")\n",
    "rho2 = analysis(T2, xi2, best_threshold=1e-10)"
   ]
  },
  {
   "cell_type": "code",
   "execution_count": 120,
   "metadata": {},
   "outputs": [
    {
     "name": "stdout",
     "output_type": "stream",
     "text": [
      "0.923126255004128\n"
     ]
    }
   ],
   "source": [
    "print(rho2.ε(rho1))"
   ]
  },
  {
   "cell_type": "code",
   "execution_count": null,
   "metadata": {},
   "outputs": [],
   "source": []
  }
 ],
 "metadata": {
  "kernelspec": {
   "display_name": "default",
   "language": "python",
   "name": "python3"
  },
  "language_info": {
   "codemirror_mode": {
    "name": "ipython",
    "version": 3
   },
   "file_extension": ".py",
   "mimetype": "text/x-python",
   "name": "python",
   "nbconvert_exporter": "python",
   "pygments_lexer": "ipython3",
   "version": "3.12.4"
  }
 },
 "nbformat": 4,
 "nbformat_minor": 2
}
