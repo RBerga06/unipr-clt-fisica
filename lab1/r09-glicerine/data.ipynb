{
 "cells": [
  {
   "cell_type": "markdown",
   "metadata": {},
   "source": [
    "### Modelli teorici utilizzati:\n",
    "* **viscosità**: ... (indicato dal prof)\n",
    "* **densità**: [Density model for aqueous glycerol solutions](https://link.springer.com/article/10.1007/s00348-018-2527-y) (trovato da noi)"
   ]
  },
  {
   "cell_type": "code",
   "execution_count": 1,
   "metadata": {},
   "outputs": [],
   "source": [
    "from rberga06.phylab import Datum as d, Measure\n",
    "import math\n",
    "import sympy\n",
    "from typing import Any, Iterable\n",
    "from itertools import count\n",
    "sympy.init_printing()\n",
    "\n",
    "def abs_(x: Measure[float]) -> Measure[float]:\n",
    "    return d(abs(x.best), x.delta)\n",
    "\n",
    "def sin(x: Measure[float]) -> Measure[float]:\n",
    "    return d(math.sin(x.best), abs(math.cos(x.best)) * x.delta)\n",
    "\n",
    "def exp(x: Measure[float]) -> Measure[float]:\n",
    "    e_x = math.exp(x.best)\n",
    "    return d(e_x, e_x * x.delta)\n",
    "\n",
    "def ln(x: Measure[float]) -> Measure[float]:\n",
    "    return d(math.log(x.best), x.delta_rel)\n",
    "\n",
    "def expr_delta(expr: Any, symbols: Iterable[sympy.Symbol], /) -> Any:\n",
    "    return sympy.sqrt(sum([(expr.diff(x) * sympy.Symbol(f\"(\\\\delta {x})\"))**2 for x in symbols], start=sympy.Integer(0)))\n",
    "\n",
    "def evalf(expr: Any, subs: dict[sympy.Symbol, Measure[float]], /, *, delta: Any = None) -> Measure[float]:\n",
    "    best_subs = {x: X.best for x, X in subs.items()}\n",
    "    delta_subs = {sympy.Symbol(f\"(\\\\delta {x})\"): X.delta for x, X in subs.items()}\n",
    "    if delta is None:\n",
    "        delta = expr_delta(expr, subs)\n",
    "    return d(expr.evalf(subs=best_subs), delta.evalf(subs=best_subs | delta_subs))"
   ]
  },
  {
   "cell_type": "markdown",
   "metadata": {},
   "source": [
    "$$\\alpha = 1 - x + \\frac{abx(1-x)}{ax+b(1-x)}$$\n",
    "$$(ax+b(1-x))\\alpha = (ax+b(1-x))(1-x) + abx(1-x)$$\n",
    "$$a\\alpha x+b\\alpha(1-x) = ax(1-x) + b(1-x)^2 + abx(1-x)$$\n",
    "$$a\\alpha x+b\\alpha-b\\alpha x = ax-ax^2 + b+bx^2-2bx + abx-abx^2$$\n",
    "$$(a - b + ab) x^2 + (a\\alpha-b\\alpha - a + 2b - ab) x + b\\alpha - b = 0$$"
   ]
  },
  {
   "cell_type": "code",
   "execution_count": 2,
   "metadata": {},
   "outputs": [],
   "source": [
    "def eta_water(T: Measure[float], /) -> Measure[float]:  # mPa s\n",
    "    _T = sympy.symbols(\"T\")\n",
    "    e = 1.79 * sympy.exp((-1230 - _T)*_T/(36100 + 360 * _T))  # type: ignore\n",
    "    return evalf(e, {_T: T})\n",
    "\n",
    "def eta_glycerol(T: Measure[float], /) -> Measure[float]:   # mPa s\n",
    "    _T = sympy.symbols(\"T\")\n",
    "    e = 12100 * sympy.exp((-1233 - _T)*_T/(9900 + 70 * _T))  # type: ignore\n",
    "    return evalf(e, {_T: T})\n",
    "\n",
    "def rho_water(T: Measure[float], /) -> Measure[float]:   # kg / m^3\n",
    "    return 1000 * (1 - abs_((T - 3.98)/615)**1.71)\n",
    "\n",
    "def rho_glycerol(T: Measure[float], /) -> Measure[float]:   # kg/m^3\n",
    "    return (1273 - 0.612 * T)\n",
    "\n",
    "def _kappa_solution(T: Measure[float], w_g: Measure[float], /) -> Measure[float]:\n",
    "    A = (1.78e-6 * T**2 - 1.82e-4 * T + 1.41e-2)\n",
    "    return 1 + A * sin(w_g ** 1.31 * math.pi) ** 0.81\n",
    "\n",
    "def rho_solution(T: Measure[float], w_g: Measure[float], /) -> Measure[float]:  # g/dm^3\n",
    "    rho_w = rho_water(T)\n",
    "    rho_g = rho_glycerol(T)\n",
    "    # w_g: concentrazione massa/massa\n",
    "    return _kappa_solution(T, w_g) * (rho_w + (rho_g - rho_w)/(1 + (rho_g/rho_w) * (1/w_g - 1)))\n",
    "\n",
    "\n",
    "def _solve_alpha2wg() -> tuple[Any, Any, Any, Any]:\n",
    "    T, alpha, x, a, b = sympy.symbols(\"T \\\\alpha x a b\")\n",
    "    equation = (1 - x) + (a * b * x * (1 - x))/(a * x + b * (1 - x)) - alpha\n",
    "    x1, x2 = sympy.solve(equation, x)\n",
    "    a_expr = 0.705 - 0.0017 * T\n",
    "    b_expr = ((4.9 + 0.036 * T) * a ** 2.5).subs({a: a_expr})\n",
    "    x1 = x1.subs({a: a_expr, b: b_expr})\n",
    "    x2 = x2.subs({a: a_expr, b: b_expr})\n",
    "    return x1, expr_delta(x1, [T, alpha]), x2, expr_delta(x2, [T, alpha])\n",
    "_SOLUTIONS_ALPHA2WG = _solve_alpha2wg()\n",
    "\n",
    "def alpha2wg(T: Measure[float], alpha: Measure[float]) -> Measure[float]:\n",
    "    _T, _alpha = sympy.symbols(\"T \\\\alpha\")\n",
    "    _x1, _x1delta, _x2, _x2delta = _SOLUTIONS_ALPHA2WG\n",
    "    x1 = evalf(_x1, {_T: T, _alpha: alpha}, delta=_x1delta)\n",
    "    x2 = evalf(_x2, {_T: T, _alpha: alpha}, delta=_x2delta)\n",
    "    # old code\n",
    "    if False:\n",
    "        a = 0.705 - 0.0017 * T\n",
    "        b = (4.9+0.036 * T) * a**2.5\n",
    "        A = (a - b + a*b)\n",
    "        B = (a * alpha - b * alpha - a + 2*b - a*b)\n",
    "        Delta = B**2 - 4*A*(b*alpha - b)\n",
    "        x1 = (-B + Delta ** .5)/(2*A)\n",
    "        x2 = (-B - Delta ** .5)/(2*A)\n",
    "    return min(x1, x2, key=lambda x: x.best)\n"
   ]
  },
  {
   "cell_type": "markdown",
   "metadata": {},
   "source": [
    "$$v=\\frac{2}{9}(\\rho_s - \\rho_f) \\frac{R^2}{\\eta} g$$\n",
    "$$R^2 = \\xi v$$\n",
    "$$R^2 = \\frac{1}{\\frac{2}{9}(\\rho_s - \\rho_f) \\frac{g}{\\eta}} v$$\n",
    "$$\\xi = \\frac{9\\eta}{2(\\rho_s - \\rho_f) g}$$\n",
    "$$\\frac{2(\\rho_s - \\rho_f) g \\xi}{9} = \\eta$$"
   ]
  },
  {
   "cell_type": "code",
   "execution_count": 3,
   "metadata": {},
   "outputs": [],
   "source": [
    "g = d(9.806, 0.01)  # m/s^2\n",
    "rho_sfere = d(7713, 45)  # kg/m^3\n",
    "\n",
    "def analysis(T: Measure[float], xi: Measure[float], best_threshold: float = 1e-3) -> tuple[Measure[float], Measure[float], Measure[float]]:\n",
    "    print(\"T =\", T, \"°C\")\n",
    "    print(\"ξ =\", xi)\n",
    "    print(\"η(acqua) =\", _eta_water := eta_water(T), \"mPa s\")\n",
    "    print(\"η(glicerina) =\", _eta_glycerol := eta_glycerol(T), \"mPa s\")\n",
    "    print(\"⍴(acqua) =\", rho_water(T), \"kg/m³\")\n",
    "    print(\"⍴(glicerina) =\", _rho_glycerol := rho_glycerol(T), \"kg/m³\")\n",
    "    ln_eta_water = ln(_eta_water)\n",
    "    ln_eta_glycerol = ln(_eta_glycerol)\n",
    "    ln_diff = (ln_eta_water - ln_eta_glycerol)\n",
    "    rho_sol = _rho_glycerol  # kg/m^3\n",
    "    last_rho_sol_best = rho_sol.best\n",
    "    for i in count(1):\n",
    "        print(f\"Iterazione {i}:\")\n",
    "        print(\" con ⍴ =\", rho_sol, \"kg/m³\")\n",
    "        eta_sol = (2/9) * (rho_sfere - rho_sol) * g * xi * 10**3   # mPa s\n",
    "        print(\" -> η =\", eta_sol, \"mPa s\")\n",
    "        alpha = (ln(eta_sol) - ln_eta_glycerol)/ln_diff\n",
    "        print(\" -> ⍺ =\", alpha)\n",
    "        cm = alpha2wg(T, alpha)\n",
    "        print(f\" -> c = {cm*100}% m/s\")\n",
    "        rho_sol = rho_solution(T, cm)\n",
    "        print(\" -> ⍴ =\", rho_sol, \"kg/m³\")\n",
    "        if abs(rho_sol.best - last_rho_sol_best) <= best_threshold:\n",
    "            break\n",
    "        last_rho_sol_best = rho_sol.best\n",
    "    return eta_sol, cm, rho_sol\n"
   ]
  },
  {
   "cell_type": "code",
   "execution_count": 4,
   "metadata": {},
   "outputs": [
    {
     "name": "stdout",
     "output_type": "stream",
     "text": [
      "--- Giorno 1 ---\n",
      "T = 24.6 ± 0.2 °C\n",
      "ξ = 1.82296746e-05 ± 6.6444977398e-08\n",
      "η(acqua) = 0.900951687825388 ± 0.00413662225747271 mPa s\n",
      "η(glicerina) = 844.740864190873 ± 15.9305079009403 mPa s\n",
      "⍴(acqua) = 996.9907576701406 ± 0.04991080876876254 kg/m³\n",
      "⍴(glicerina) = 1257.9448 ± 0.12240000000000001 kg/m³\n",
      "Iterazione 1:\n",
      " con ⍴ = 1257.9448 ± 0.12240000000000001 kg/m³\n",
      " -> η = 256.4237529735773 ± 2.988594782528412 mPa s\n",
      " -> ⍺ = 0.17421312876759912 ± 0.00505581564171701\n",
      " -> c = 93.5605863290863 ± 0.212180421620979% m/s\n",
      " -> ⍴ = 1241.53018353832 ± 1.02693320165069 kg/m³\n",
      "Iterazione 2:\n",
      " con ⍴ = 1241.53018353832 ± 1.02693320165069 kg/m³\n",
      " -> η = 257.075815183165 ± 3.02756855048707 mPa s\n",
      " -> ⍺ = 0.17384201123760548 ± 0.00507237764907506\n",
      " -> c = 93.5761566997101 ± 0.212752887185449% m/s\n",
      " -> ⍴ = 1241.57154122762 ± 1.02918612136684 kg/m³\n",
      "Iterazione 3:\n",
      " con ⍴ = 1241.57154122762 ± 1.02918612136684 kg/m³\n",
      " -> η = 257.074172270196 ± 3.02765038292910 mPa s\n",
      " -> ⍺ = 0.17384294510887666 ± 0.00507243836301076\n",
      " -> c = 93.5761175300573 ± 0.212755742091182% m/s\n",
      " -> ⍴ = 1241.57143718886 ± 1.02919649832794 kg/m³\n",
      "Iterazione 4:\n",
      " con ⍴ = 1241.57143718886 ± 1.02919649832794 kg/m³\n",
      " -> η = 257.074176403082 ± 3.02765081442708 mPa s\n",
      " -> ⍺ = 0.17384294275963738 ± 0.00507243857256751\n",
      " -> c = 93.5761176285922 ± 0.212755750104921% m/s\n",
      " -> ⍴ = 1241.57143745058 ± 1.02919652899177 kg/m³\n",
      "Iterazione 5:\n",
      " con ⍴ = 1241.57143745058 ± 1.02919652899177 kg/m³\n",
      " -> η = 257.074176392686 ± 3.02765081559668 mPa s\n",
      " -> ⍺ = 0.173842942765547 ± 0.00507243857332219\n",
      " -> c = 93.5761176283443 ± 0.212755750138527% m/s\n",
      " -> ⍴ = 1241.57143744993 ± 1.02919652911549 kg/m³\n",
      "Iterazione 6:\n",
      " con ⍴ = 1241.57143744993 ± 1.02919652911549 kg/m³\n",
      " -> η = 257.074176392712 ± 3.02765081560172 mPa s\n",
      " -> ⍺ = 0.1738429427655322 ± 0.00507243857332483\n",
      " -> c = 93.5761176283449 ± 0.212755750138632% m/s\n",
      " -> ⍴ = 1241.57143744993 ± 1.02919652911589 kg/m³\n"
     ]
    }
   ],
   "source": [
    "# NOTA: T è in °C\n",
    "# T1_piccole = d(24.8, 0.2)\n",
    "T1 = d(24.6, 0.2)   # °C\n",
    "xi1 = d(1.822967460e-5, 6.6444977398e-8)\n",
    "print(\"--- Giorno 1 ---\")\n",
    "eta1, c1, rho1 = analysis(T1, xi1, best_threshold=1e-10)"
   ]
  },
  {
   "cell_type": "code",
   "execution_count": 5,
   "metadata": {},
   "outputs": [
    {
     "name": "stdout",
     "output_type": "stream",
     "text": [
      "--- Giorno 2 ---\n",
      "T = 19.4 ± 0.2 °C\n",
      "ξ = 2.6374145872e-05 ± 9.5797126107e-08\n",
      "η(acqua) = 1.01982580168225 ± 0.00504785762682952 mPa s\n",
      "η(glicerina) = 1398.00458235919 ± 27.8341453877844 mPa s\n",
      "⍴(acqua) = 998.1691707971398 ± 0.04060593951868824 kg/m³\n",
      "⍴(glicerina) = 1261.1272 ± 0.12240000000000001 kg/m³\n",
      "Iterazione 1:\n",
      " con ⍴ = 1261.1272 ± 0.12240000000000001 kg/m³\n",
      " -> η = 370.8032872620404 ± 4.318267633461683 mPa s\n",
      " -> ⍺ = 0.18373229721313855 ± 0.00500100942668852\n",
      " -> c = 93.1710194049245 ± 0.212271623636351% m/s\n",
      " -> ⍴ = 1243.72560825954 ± 1.01690084800264 kg/m³\n",
      "Iterazione 2:\n",
      " con ⍴ = 1243.72560825954 ± 1.01690084800264 kg/m³\n",
      " -> η = 371.803394923951 ± 4.37432908081660 mPa s\n",
      " -> ⍺ = 0.1833593989492096 ± 0.00501626405881043\n",
      " -> c = 93.1868427704386 ± 0.212796482143604% m/s\n",
      " -> ⍴ = 1243.76770258301 ± 1.01900331412257 kg/m³\n",
      "Iterazione 3:\n",
      " con ⍴ = 1243.76770258301 ± 1.01900331412257 kg/m³\n",
      " -> η = 371.800975670813 ± 4.37443865974410 mPa s\n",
      " -> ⍺ = 0.18336029977658708 ± 0.00501631856024698\n",
      " -> c = 93.1868045561943 ± 0.212799090286938% m/s\n",
      " -> ⍴ = 1243.76760092591 ± 1.01901287585617 kg/m³\n",
      "Iterazione 4:\n",
      " con ⍴ = 1243.76760092591 ± 1.01901287585617 kg/m³\n",
      " -> η = 371.800981513270 ± 4.37443923645714 mPa s\n",
      " -> ⍺ = 0.18336029760109665 ± 0.00501631874190808\n",
      " -> c = 93.1868046484814 ± 0.212799097278080% m/s\n",
      " -> ⍴ = 1243.76760117141 ± 1.01901290296598 kg/m³\n",
      "Iterazione 5:\n",
      " con ⍴ = 1243.76760117141 ± 1.01901290296598 kg/m³\n",
      " -> η = 371.800981499160 ± 4.37443923794956 mPa s\n",
      " -> ⍺ = 0.18336029760635045 ± 0.00501631874254369\n",
      " -> c = 93.1868046482586 ± 0.212799097306770% m/s\n",
      " -> ⍴ = 1243.76760117082 ± 1.01901290307267 kg/m³\n",
      "Iterazione 6:\n",
      " con ⍴ = 1243.76760117082 ± 1.01901290307267 kg/m³\n",
      " -> η = 371.800981499195 ± 4.37443923795585 mPa s\n",
      " -> ⍺ = 0.1833602976063378 ± 0.00501631874254584\n",
      " -> c = 93.1868046482591 ± 0.212799097306857% m/s\n",
      " -> ⍴ = 1243.76760117082 ± 1.01901290307300 kg/m³\n"
     ]
    }
   ],
   "source": [
    "xi2 = d(2.6374145872e-5, 9.5797126107e-8)\n",
    "T2 = d(19.4, 0.2)   # °C\n",
    "print(\"--- Giorno 2 ---\")\n",
    "eta2, c2, rho2 = analysis(T2, xi2, best_threshold=1e-10)"
   ]
  },
  {
   "cell_type": "code",
   "execution_count": 6,
   "metadata": {},
   "outputs": [
    {
     "name": "stdout",
     "output_type": "stream",
     "text": [
      "1.07223591805422\n",
      "-0.914836201309424\n"
     ]
    }
   ],
   "source": [
    "print(rho2.ε(rho1))\n",
    "print(c2.ε(c1))"
   ]
  },
  {
   "cell_type": "code",
   "execution_count": 8,
   "metadata": {},
   "outputs": [
    {
     "name": "stdout",
     "output_type": "stream",
     "text": [
      "33.7609988608565 ± 0.909432604386998\n",
      "50.1121715753386 ± 1.37404166851907\n",
      "75.6512196950756 ± 2.09250638839769\n",
      "15.1205344714892 ± 0.432820128792665\n",
      "23.0420888140747 ± 0.685055028581048\n",
      "38.7513874596750 ± 1.13264420955994\n"
     ]
    }
   ],
   "source": [
    "def Re(v: Measure[float], rho: Measure[float], eta: Measure[float]) -> Measure[float]:\n",
    "    return (v * rho * d(8.0, 0.1)*10)/eta\n",
    "\n",
    "for v in [d(8.738e-2, 0.016e-2), d(12.97e-2, 0.03e-2), d(19.58e-2, 0.05e-2)]:\n",
    "    print(Re(v, rho1, eta1))\n",
    "\n",
    "for v in [d(5.65e-2, 0.02e-2), d(8.61e-2, 0.04e-2), d(14.48e-2, 0.06e-2)]:\n",
    "    print(Re(v, rho2, eta2))"
   ]
  },
  {
   "cell_type": "code",
   "execution_count": null,
   "metadata": {},
   "outputs": [],
   "source": []
  }
 ],
 "metadata": {
  "kernelspec": {
   "display_name": "default",
   "language": "python",
   "name": "python3"
  },
  "language_info": {
   "codemirror_mode": {
    "name": "ipython",
    "version": 3
   },
   "file_extension": ".py",
   "mimetype": "text/x-python",
   "name": "python",
   "nbconvert_exporter": "python",
   "pygments_lexer": "ipython3",
   "version": "3.12.4"
  }
 },
 "nbformat": 4,
 "nbformat_minor": 2
}
