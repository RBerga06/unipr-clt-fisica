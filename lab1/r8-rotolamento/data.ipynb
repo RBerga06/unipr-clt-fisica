{
 "cells": [
  {
   "cell_type": "markdown",
   "metadata": {},
   "source": [
    "## Corpo che rotola"
   ]
  },
  {
   "cell_type": "code",
   "execution_count": 1,
   "metadata": {},
   "outputs": [],
   "source": [
    "# Formule\n",
    "from math import pi as π\n",
    "from dataclasses import dataclass\n",
    "\n",
    "def Vcil(H: float, R: float):\n",
    "    \"\"\"Volume del cilindro.\"\"\"\n",
    "    return π * H * R**2\n",
    "\n",
    "def Icil(density: float, H: float, R: float):\n",
    "    \"\"\"Momento d'inerzia del cilindro rispetto all'asse centrale\"\"\"\n",
    "    return π * density * H * R**4 / 2\n",
    "\n",
    "def Vtc(dH: float, R: float, r: float):\n",
    "    \"\"\"Volume del tronco di cono.\"\"\"\n",
    "    return π/3 * dH * (R**3 - r**3)/(R - r)\n",
    "\n",
    "def Itc(density: float, dH: float, R: float, r: float):\n",
    "    \"\"\"Momento d'inerzia del tronco di cono rispetto all'asse centrale\"\"\"\n",
    "    return π/10 * density * dH * (R**5 - r**5)/(R - r)\n",
    "\n",
    "@dataclass\n",
    "class Cil:\n",
    "    h: float\n",
    "    r: float\n",
    "    def V(self, /) -> float: return Vcil(self.h, self.r)\n",
    "    def I(self, density: float, /) -> float: return Icil(density, self.h, self.r)\n",
    "\n",
    "@dataclass\n",
    "class Tcn:\n",
    "    h: float\n",
    "    R: float\n",
    "    r: float\n",
    "    def V(self, /) -> float: return Vtc(self.h, max(self.r, self.R), min(self.r, self.R))\n",
    "    def I(self, density: float, /) -> float: return Itc(density, self.h, max(self.R, self.r), min(self.R, self.r))\n"
   ]
  },
  {
   "cell_type": "code",
   "execution_count": 13,
   "metadata": {},
   "outputs": [
    {
     "name": "stdout",
     "output_type": "stream",
     "text": [
      "density = 8317.707860526167 kg/m^3\n",
      "I = 6.389648588316193 10⁻⁴ kg m²\n"
     ]
    }
   ],
   "source": [
    "r = [x/2000 for x in [\n",
    "    # ± 0.05\n",
    "    49.85, 31.00, 25.85, 18.80, 35.85, 49.90, 35.95, 18.65, 25.90, 31.45, 49.95,\n",
    "]]\n",
    "h = [x/1000 for x in [\n",
    "    30.45,  # ± 0.05\n",
    "    5.95, 9.20,  # ± 0.10\n",
    "    10.80, 4.25, 52.95, 4.25, 10.80, # ± 0.05\n",
    "    9.25, 5.95,  # ± 0.10\n",
    "    30.40  # ± 0.05\n",
    "]]\n",
    "obj = [\n",
    "    Cil(h[0], r[0]),\n",
    "    Tcn(h[1], r[0], r[1]),\n",
    "    Cil(h[2], r[2]),\n",
    "    Cil(h[3], r[3]),\n",
    "    Tcn(h[4], r[5], r[4]),\n",
    "    Cil(h[5], r[5]),\n",
    "    Tcn(h[6], r[5], r[6]),\n",
    "    Cil(h[7], r[7]),\n",
    "    Cil(h[8], r[8]),\n",
    "    Tcn(h[9], r[9], r[10]),\n",
    "    Cil(h[10], r[10]),\n",
    "]\n",
    "\n",
    "M = 2214.57/1000 # ± 0.01g  # kg\n",
    "V = sum([x.V() for x in obj])\n",
    "density = M / V\n",
    "I = sum([x.I(density) for x in obj])\n",
    "R = (r[2] + r[8])/2\n",
    "R_ = (r[0] + r[5] + r[-1])/3\n",
    "\n",
    "print(\"density =\", density, \"kg/m^3\")\n",
    "print(\"I =\", I * 1e4, \"10⁻⁴ kg m²\")\n"
   ]
  },
  {
   "cell_type": "markdown",
   "metadata": {},
   "source": [
    "$$g = \\frac{2L}{t^2 \\sin\\theta}\\left(\\frac{I_\\text{cm}}{M R^2} + 1\\right)$$"
   ]
  },
  {
   "cell_type": "code",
   "execution_count": 14,
   "metadata": {},
   "outputs": [
    {
     "name": "stdout",
     "output_type": "stream",
     "text": [
      "g = 11.265381502782917 m/s²\n"
     ]
    }
   ],
   "source": [
    "from math import sin, radians\n",
    "\n",
    "angoli = [*map(radians, [\n",
    "    # unità di misura: °\n",
    "    3.4,  # ± 0.1°\n",
    "])]\n",
    "distanze = [\n",
    "    55.6/100,  # ± 0.1 cm\n",
    "]\n",
    "\n",
    "L = distanze[0] - 0.5/100 - 2*R_\n",
    "t = 2_021_348.32/1_000_000  # s\n",
    "g = 2 * L / (t ** 2 * sin(angoli[0])) * (I / (M * R**2) + 1)\n",
    "print(\"g =\", g, \"m/s²\")"
   ]
  },
  {
   "cell_type": "code",
   "execution_count": null,
   "metadata": {},
   "outputs": [],
   "source": []
  }
 ],
 "metadata": {
  "kernelspec": {
   "display_name": "Python 3",
   "language": "python",
   "name": "python3"
  },
  "language_info": {
   "codemirror_mode": {
    "name": "ipython",
    "version": 3
   },
   "file_extension": ".py",
   "mimetype": "text/x-python",
   "name": "python",
   "nbconvert_exporter": "python",
   "pygments_lexer": "ipython3",
   "version": "3.11.8"
  }
 },
 "nbformat": 4,
 "nbformat_minor": 2
}
