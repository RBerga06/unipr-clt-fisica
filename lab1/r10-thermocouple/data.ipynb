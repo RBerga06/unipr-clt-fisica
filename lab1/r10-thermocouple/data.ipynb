{
 "cells": [
  {
   "cell_type": "code",
   "execution_count": 1,
   "metadata": {},
   "outputs": [
    {
     "name": "stdout",
     "output_type": "stream",
     "text": [
      "Datum(best=0.08524999999999999, delta=0.001) V\n"
     ]
    }
   ],
   "source": [
    "from rberga06.phylab import Datum as d\n",
    "\n",
    "V0 = (d(.076, .001) + d(.088, .001) + d(.086, .001) + d(.091, .001))/4\n",
    "# V0 = d(.0032, 7e-4)\n",
    "print(V0, \"V\")"
   ]
  },
  {
   "cell_type": "code",
   "execution_count": 2,
   "metadata": {},
   "outputs": [
    {
     "name": "stdout",
     "output_type": "stream",
     "text": [
      "Datum(best=287.2940051411029, delta=1.1670764881810023) K\n",
      "Datum(best=14.144005141102923, delta=1.1770764881810023) °C\n"
     ]
    }
   ],
   "source": [
    "# Regressione lineare\n",
    "#    V = AT + B\n",
    "# => T = (V - B)/A\n",
    "A1 = d(0.0033371828, 4.9302375173E-6)\n",
    "B1 = d(-0.8735026125, 0.0014783199)\n",
    "T1 = (V0 - B1)/A1\n",
    "print(T1, \"K\")\n",
    "print(T1 - d(273.15, .01), \"°C\")"
   ]
  },
  {
   "cell_type": "code",
   "execution_count": 27,
   "metadata": {},
   "outputs": [
    {
     "name": "stdout",
     "output_type": "stream",
     "text": [
      "Datum(best=295.55981339953087, delta=12.475914391765992) K\n",
      "Datum(best=22.40981339953089, delta=12.485914391765991) °C\n"
     ]
    }
   ],
   "source": [
    "# Regressione quadratica\n",
    "#    V = AT² + BT + C\n",
    "#    0 = AT² + BT + C - V\n",
    "# => T = (-B + √(B² - 4A(C-V)))/2A\n",
    "A2 = d(3.1345109092E-6, 4.0664944486E-8)\n",
    "B2 = d(0.0018186742, 2.0307628607E-5)\n",
    "B2_2 = B2/2\n",
    "C2 = d(-0.7260940987, 0.0024171484)\n",
    "Delta_4 = B2_2**2 - A2*(C2 - V0)\n",
    "T2 = (Delta_4**.5 - B2_2)/A2\n",
    "print(T2, \"K\")\n",
    "print(T2 - d(273.15, .01), \"°C\")"
   ]
  },
  {
   "cell_type": "code",
   "execution_count": 10,
   "metadata": {},
   "outputs": [],
   "source": [
    "from dataclasses import dataclass\n",
    "\n",
    "@dataclass(slots=True, frozen=True)\n",
    "class d2:\n",
    "    best: float\n",
    "    delta: float\n",
    "\n",
    "    @property\n",
    "    def delta_rel(self, /) -> float:\n",
    "        return self.best / self.delta\n",
    "\n",
    "    @classmethod\n",
    "    def from_delta_rel(cls, best: float, delta_rel: float, /) -> \"d2\":\n",
    "        return d2(best, delta_rel * abs(best))\n",
    "\n",
    "    def __pos__(self, /) -> \"d2\":\n",
    "        return self\n",
    "\n",
    "    def __neg__(self, /) -> \"d2\":\n",
    "        return d2(-self.best, self.delta)\n",
    "\n",
    "    def __add__(self, other: \"d2 | d | float\") -> \"d2\":\n",
    "        if isinstance(other, d2 | d):\n",
    "            return d2(self.best + other.best, (self.delta ** 2 + other.delta ** 2) ** .5)\n",
    "        return d2(self.best + other, self.delta)\n",
    "\n",
    "    __radd__ = __add__\n",
    "\n",
    "    def __sub__(self, other: \"d2 | float\") -> \"d2\":\n",
    "        if isinstance(other, d2 | d):\n",
    "            return d2(self.best - other.best, (self.delta ** 2 + other.delta ** 2) ** .5)\n",
    "        return d2(self.best - other, self.delta)\n",
    "\n",
    "    def __rsub__(self, other: \"d2 | d | float\") -> \"d2\":\n",
    "        if isinstance(other, d2 | d):\n",
    "            return d2(other.best - self.best, (self.delta ** 2 + other.delta ** 2) ** .5)\n",
    "        return d2(other - self.best, self.delta)\n",
    "\n",
    "    def __mul__(self, other: \"d2 | d | float\") -> \"d2\":\n",
    "        if isinstance(other, d2 | d):\n",
    "            return d2.from_delta_rel(self.best * other.best, (self.delta_rel ** 2 + other.delta_rel ** 2) ** .5)\n",
    "        return d2.from_delta_rel(self.best * other, self.delta_rel)\n",
    "\n",
    "    __rmul__ = __mul__\n",
    "\n",
    "    def __truediv__(self, other: \"d2 | d | float\") -> \"d2\":\n",
    "        if isinstance(other, d2 | d):\n",
    "            return d2.from_delta_rel(self.best / other.best, (self.delta_rel ** 2 + other.delta_rel ** 2) ** .5)\n",
    "        return d2.from_delta_rel(self.best / other, self.delta_rel)\n",
    "\n",
    "    def __rtruediv__(self, other: \"d2 | d | float\") -> \"d2\":\n",
    "        if isinstance(other, d2 | d):\n",
    "            return d2.from_delta_rel(other.best / self.best, (self.delta_rel ** 2 + other.delta_rel ** 2) ** .5)\n",
    "        return d2.from_delta_rel(other / self.best, self.delta_rel)\n",
    "\n",
    "    def __pow__(self, other: float) -> \"d2\":\n",
    "        return d2.from_delta_rel(self.best ** other, self.delta_rel * abs(other))\n"
   ]
  },
  {
   "cell_type": "code",
   "execution_count": 13,
   "metadata": {},
   "outputs": [
    {
     "name": "stdout",
     "output_type": "stream",
     "text": [
      "0 Datum(best=300, delta=0) K\n",
      "1 Datum(best=294.8120461234081, delta=44.95614611521464) K\n",
      "2 Datum(best=294.79869550022084, delta=44.99683361728577) K\n",
      "3 Datum(best=294.7986954073144, delta=44.99683390020524) K\n",
      "4 Datum(best=294.7986954073144, delta=44.99683390020528) K\n",
      "5 Datum(best=294.7986954073144, delta=44.996833900205324) K\n",
      "6 Datum(best=294.7986954073144, delta=44.99683390020537) K\n",
      "7 Datum(best=294.7986954073144, delta=44.99683390020541) K\n",
      "8 Datum(best=294.7986954073144, delta=44.99683390020545) K\n",
      "9 Datum(best=294.7986954073144, delta=44.996833900205495) K\n",
      "Datum(best=294.7986954073144, delta=44.99683390020554) K\n",
      "Datum(best=21.64869540731445, delta=45.006833900205535) °C\n"
     ]
    }
   ],
   "source": [
    "# Regressione cubica\n",
    "#   f(T)  = AT³ + BT² + CT + D - V\n",
    "#   f'(T) = 3AT² + 2BT + C\n",
    "#  Metodo di Newton (delle tangenti)\n",
    "#   0 - f(Tₙ) = f'(Tₙ)(Tₙ₊₁ - Tₙ)\n",
    "#   Tₙ₊₁ = Tₙ - f(Tₙ)/f'(Tₙ)\n",
    "A3 = d2(-9.4026125488E-9, 8.0213829342E-10)\n",
    "B3 = d2(1.0335859351E-5, 6.1569249727E-7)\n",
    "C3 = d2(2.3272301055E-4, 1.3681329502E-4)\n",
    "D3 = d2(-0.6407138592, 0.0076743967)\n",
    "_3A = 3 * A3\n",
    "_2B = 2 * B3\n",
    "T3 = d(300, 0)\n",
    "for i in range(10):\n",
    "    print(i, T3, \"K\")\n",
    "    #print(i, T3 - d(273.15, .01), \"°C\")\n",
    "    T3 = T3 - (A3 * T3 ** 3 + B3 * T3 ** 2 + C3 * T3 + D3 - V0)/(_3A * T3**2 + _2B * T3 + C3)\n",
    "print(T3, \"K\")\n",
    "print(T3 - d2(273.15, .01), \"°C\")"
   ]
  },
  {
   "cell_type": "code",
   "execution_count": 23,
   "metadata": {},
   "outputs": [],
   "source": [
    "import sympy\n",
    "from IPython.display import display\n",
    "sympy.init_printing()\n",
    "t = sympy.symbols(\"t\", positive=True)\n",
    "a, b, c, d_ = sympy.symbols(\"a b c d\")\n",
    "\n",
    "def eval(P, symbols):\n",
    "    exprs = sympy.solve(P, t, check=False)\n",
    "    err_exprs = [sympy.sqrt(sum([(expr.diff(x) * X.delta)**2 for x, X in symbols.items()])) for expr in exprs]\n",
    "    SUBS = {x: X.best for x, X in symbols.items()}\n",
    "    return [\n",
    "        d(expr.simplify().evalf(subs=SUBS), err_expr.evalf(subs=SUBS))\n",
    "        for expr, err_expr in zip(exprs, err_exprs)\n",
    "    ]"
   ]
  },
  {
   "cell_type": "code",
   "execution_count": 29,
   "metadata": {},
   "outputs": [
    {
     "name": "stdout",
     "output_type": "stream",
     "text": [
      "Datum(best=295.55981339953087, delta=12.475914391765992) K\n",
      "Datum(best=22.40981339953089, delta=12.485914391765991) °C\n"
     ]
    }
   ],
   "source": [
    "T1 = eval(a * t + b, {a: A1, b: B1 - V0})[0]\n",
    "print(T2, \"K\")\n",
    "print(T2 - d(273.15, 0.01), \"°C\")"
   ]
  },
  {
   "cell_type": "code",
   "execution_count": 30,
   "metadata": {},
   "outputs": [
    {
     "name": "stdout",
     "output_type": "stream",
     "text": [
      "Datum(best=295.559813399531, delta=2.11536972280534) K\n",
      "Datum(best=22.4098133995309, delta=2.12536972280534) °C\n"
     ]
    }
   ],
   "source": [
    "T2 = eval(a * t**2 + b * t + c, {a: A2, b: B2, c: C2 - V0})[1]\n",
    "print(T2, \"K\")\n",
    "print(T2 - d(273.15, 0.01), \"°C\")"
   ]
  },
  {
   "cell_type": "code",
   "execution_count": 25,
   "metadata": {},
   "outputs": [],
   "source": [
    "T3s = eval(a * t**3 + b * t**2 + c * t + d_, {a: A3, b: B3, c: C3, d_: D3 - V0})"
   ]
  },
  {
   "cell_type": "code",
   "execution_count": 26,
   "metadata": {},
   "outputs": [
    {
     "name": "stdout",
     "output_type": "stream",
     "text": [
      "Datum(best=294.7986954073144, delta=18.1954034244361) K\n",
      "Datum(best=21.64869540731445, delta=18.205403424436103) °C\n"
     ]
    }
   ],
   "source": [
    "T3 = T3s[1]\n",
    "T3 = d(complex(T3.best).real, complex(T3.delta).real)\n",
    "print(T3, \"K\")\n",
    "print(T3 - d(273.15, 0.01), \"°C\")"
   ]
  },
  {
   "cell_type": "code",
   "execution_count": 9,
   "metadata": {},
   "outputs": [
    {
     "data": {
      "image/png": "[encoded data removed]",
      "text/latex": [
       "$\\displaystyle t - \\frac{a t^{3} + b t^{2} + c t + d}{3 a t^{2} + 2 b t + c}$"
      ],
      "text/plain": [
       "       3      2          \n",
       "    a⋅t  + b⋅t  + c⋅t + d\n",
       "t - ─────────────────────\n",
       "           2             \n",
       "      3⋅a⋅t  + 2⋅b⋅t + c "
      ]
     },
     "metadata": {},
     "output_type": "display_data"
    },
    {
     "data": {
      "image/png": "[encoded data removed]",
      "text/latex": [
       "$\\displaystyle \\left[ \\frac{(\\delta a) t^{2} \\cdot \\left(3 a t^{3} + 3 b t^{2} + 3 c t + 3 d - t \\left(3 a t^{2} + 2 b t + c\\right)\\right)}{\\left(3 a t^{2} + 2 b t + c\\right)^{2}}, \\  \\frac{(\\delta b) t \\left(2 a t^{3} + 2 b t^{2} + 2 c t + 2 d - t \\left(3 a t^{2} + 2 b t + c\\right)\\right)}{\\left(3 a t^{2} + 2 b t + c\\right)^{2}}, \\  \\frac{(\\delta c) \\left(a t^{3} + b t^{2} + c t + d - t \\left(3 a t^{2} + 2 b t + c\\right)\\right)}{\\left(3 a t^{2} + 2 b t + c\\right)^{2}}, \\  - \\frac{(\\delta d)}{3 a t^{2} + 2 b t + c}, \\  \\frac{2 (\\delta t) \\left(3 a t + b\\right) \\left(a t^{3} + b t^{2} + c t + d\\right)}{\\left(3 a t^{2} + 2 b t + c\\right)^{2}}\\right]$"
      ],
      "text/plain": [
       "⎡            2 ⎛     3        2                   ⎛     2            ⎞⎞       \n",
       "⎢(\\delta a)⋅t ⋅⎝3⋅a⋅t  + 3⋅b⋅t  + 3⋅c⋅t + 3⋅d - t⋅⎝3⋅a⋅t  + 2⋅b⋅t + c⎠⎠  (\\del\n",
       "⎢──────────────────────────────────────────────────────────────────────, ─────\n",
       "⎢                                            2                                \n",
       "⎢                        ⎛     2            ⎞                                 \n",
       "⎣                        ⎝3⋅a⋅t  + 2⋅b⋅t + c⎠                                 \n",
       "\n",
       "        ⎛     3        2                   ⎛     2            ⎞⎞             ⎛\n",
       "ta b)⋅t⋅⎝2⋅a⋅t  + 2⋅b⋅t  + 2⋅c⋅t + 2⋅d - t⋅⎝3⋅a⋅t  + 2⋅b⋅t + c⎠⎠  (\\delta c)⋅⎝\n",
       "────────────────────────────────────────────────────────────────, ────────────\n",
       "                                       2                                      \n",
       "                   ⎛     2            ⎞                                       \n",
       "                   ⎝3⋅a⋅t  + 2⋅b⋅t + c⎠                                       \n",
       "\n",
       "   3      2               ⎛     2            ⎞⎞                               \n",
       "a⋅t  + b⋅t  + c⋅t + d - t⋅⎝3⋅a⋅t  + 2⋅b⋅t + c⎠⎠     -(\\delta d)      2⋅(\\delta\n",
       "───────────────────────────────────────────────, ──────────────────, ─────────\n",
       "                           2                          2                       \n",
       "       ⎛     2            ⎞                      3⋅a⋅t  + 2⋅b⋅t + c           \n",
       "       ⎝3⋅a⋅t  + 2⋅b⋅t + c⎠                                                   \n",
       "\n",
       "                ⎛   3      2          ⎞⎤\n",
       " t)⋅(3⋅a⋅t + b)⋅⎝a⋅t  + b⋅t  + c⋅t + d⎠⎥\n",
       "───────────────────────────────────────⎥\n",
       "                        2              ⎥\n",
       "    ⎛     2            ⎞               ⎥\n",
       "    ⎝3⋅a⋅t  + 2⋅b⋅t + c⎠               ⎦"
      ]
     },
     "metadata": {},
     "output_type": "display_data"
    },
    {
     "data": {
      "image/png": "[encoded data removed]",
      "text/latex": [
       "$\\displaystyle \\sqrt{\\frac{(\\delta a)^{2} t^{4} \\left(b t^{2} + 2 c t + 3 d\\right)^{2}}{\\left(3 a t^{2} + 2 b t + c\\right)^{4}} + \\frac{(\\delta b)^{2} t^{2} \\left(- a t^{3} + c t + 2 d\\right)^{2}}{\\left(3 a t^{2} + 2 b t + c\\right)^{4}} + \\frac{(\\delta c)^{2} \\left(- 2 a t^{3} - b t^{2} + d\\right)^{2}}{\\left(3 a t^{2} + 2 b t + c\\right)^{4}} + \\frac{(\\delta d)^{2}}{\\left(3 a t^{2} + 2 b t + c\\right)^{2}} + \\frac{4 (\\delta t)^{2} \\left(3 a t + b\\right)^{2} \\left(a t^{3} + b t^{2} + c t + d\\right)^{2}}{\\left(3 a t^{2} + 2 b t + c\\right)^{4}}}$"
      ],
      "text/plain": [
       "        ______________________________________________________________________\n",
       "       ╱                                    2                                 \n",
       "      ╱            2  4 ⎛   2              ⎞              2  2 ⎛     3        \n",
       "     ╱   (\\delta a) ⋅t ⋅⎝b⋅t  + 2⋅c⋅t + 3⋅d⎠    (\\delta b) ⋅t ⋅⎝- a⋅t  + c⋅t +\n",
       "    ╱    ──────────────────────────────────── + ──────────────────────────────\n",
       "   ╱                                4                                      4  \n",
       "  ╱             ⎛     2            ⎞                   ⎛     2            ⎞   \n",
       "╲╱              ⎝3⋅a⋅t  + 2⋅b⋅t + c⎠                   ⎝3⋅a⋅t  + 2⋅b⋅t + c⎠   \n",
       "\n",
       "______________________________________________________________________________\n",
       "     2                                    2                                   \n",
       "    ⎞              2 ⎛       3      2    ⎞                   2                \n",
       " 2⋅d⎠    (\\delta c) ⋅⎝- 2⋅a⋅t  - b⋅t  + d⎠         (\\delta d)         4⋅(\\delt\n",
       "────── + ────────────────────────────────── + ───────────────────── + ────────\n",
       "                                   4                              2           \n",
       "               ⎛     2            ⎞           ⎛     2            ⎞            \n",
       "               ⎝3⋅a⋅t  + 2⋅b⋅t + c⎠           ⎝3⋅a⋅t  + 2⋅b⋅t + c⎠            \n",
       "\n",
       "____________________________________________\n",
       "                                          2 \n",
       "    2            2 ⎛   3      2          ⎞  \n",
       "a t) ⋅(3⋅a⋅t + b) ⋅⎝a⋅t  + b⋅t  + c⋅t + d⎠  \n",
       "─────────────────────────────────────────── \n",
       "                           4                \n",
       "       ⎛     2            ⎞                 \n",
       "       ⎝3⋅a⋅t  + 2⋅b⋅t + c⎠                 "
      ]
     },
     "metadata": {},
     "output_type": "display_data"
    },
    {
     "name": "stdout",
     "output_type": "stream",
     "text": [
      "Errori relativi:\n",
      "A = -9.4026125488e-09 ± 8.0213829342e-10 (err. rel: 0.0853101506902326)\n",
      "B = 1.0335859351e-05 ± 6.1569249727e-07 (err. rel: 0.05956858315902214)\n",
      "C = 0.00023272301055 ± 0.00013681329502 (err. rel: 0.5878803935058496)\n",
      "D = -0.7259638592 ± 0.007739274171973163 (err. rel: 0.010660687958353345)\n",
      "Sostituisco i parametri...\n"
     ]
    },
    {
     "data": {
      "image/png": "[encoded data removed]",
      "text/latex": [
       "$\\displaystyle t - \\frac{- 9.4026125488 \\cdot 10^{-9} t^{3} + 1.0335859351 \\cdot 10^{-5} t^{2} + 0.00023272301055 t - 0.7259638592}{- 2.82078376464 \\cdot 10^{-8} t^{2} + 2.0671718702 \\cdot 10^{-5} t + 0.00023272301055}$"
      ],
      "text/plain": [
       "                       3                    2                                 \n",
       "    - 9.4026125488e-9⋅t  + 1.0335859351e-5⋅t  + 0.00023272301055⋅t - 0.7259638\n",
       "t - ──────────────────────────────────────────────────────────────────────────\n",
       "                                 2                                            \n",
       "             - 2.82078376464e-8⋅t  + 2.0671718702e-5⋅t + 0.00023272301055     \n",
       "\n",
       "   \n",
       "592\n",
       "───\n",
       "   \n",
       "   "
      ]
     },
     "metadata": {},
     "output_type": "display_data"
    },
    {
     "name": "stdout",
     "output_type": "stream",
     "text": [
      "--- inizio termini\n"
     ]
    },
    {
     "data": {
      "image/png": "[encoded data removed]",
      "text/latex": [
       "$\\displaystyle \\frac{1575150.50328923 t^{2} \\left(- 2.82078376464 \\cdot 10^{-8} t^{3} + 3.1007578053 \\cdot 10^{-5} t^{2} - t \\left(- 2.82078376464 \\cdot 10^{-8} t^{2} + 2.0671718702 \\cdot 10^{-5} t + 0.00023272301055\\right) + 0.00069816903165 t - 2.1778915776\\right)}{\\left(- 0.000121207772191223 t^{2} + 0.0888254180501791 t + 1\\right)^{2}}$"
      ],
      "text/plain": [
       "                  2 ⎛                    3                    2     ⎛         \n",
       "1575150.50328923⋅t ⋅⎝- 2.82078376464e-8⋅t  + 3.1007578053e-5⋅t  - t⋅⎝- 2.82078\n",
       "──────────────────────────────────────────────────────────────────────────────\n",
       "                                                                              \n",
       "                                                        ⎛                     \n",
       "                                                        ⎝- 0.00012120777219122\n",
       "\n",
       "           2                                       ⎞                          \n",
       "376464e-8⋅t  + 2.0671718702e-5⋅t + 0.00023272301055⎠ + 0.00069816903165⋅t - 2.\n",
       "──────────────────────────────────────────────────────────────────────────────\n",
       "                                2                                             \n",
       "   2                           ⎞                                              \n",
       "3⋅t  + 0.0888254180501791⋅t + 1⎠                                              \n",
       "\n",
       "          ⎞\n",
       "1778915776⎠\n",
       "───────────\n",
       "           \n",
       "           \n",
       "           "
      ]
     },
     "metadata": {},
     "output_type": "display_data"
    },
    {
     "data": {
      "image/png": "[encoded data removed]",
      "text/latex": [
       "$\\displaystyle \\frac{1099863.0641723 t \\left(- 1.88052250976 \\cdot 10^{-8} t^{3} + 2.0671718702 \\cdot 10^{-5} t^{2} - t \\left(- 2.82078376464 \\cdot 10^{-8} t^{2} + 2.0671718702 \\cdot 10^{-5} t + 0.00023272301055\\right) + 0.0004654460211 t - 1.4519277184\\right)}{\\left(- 0.000121207772191223 t^{2} + 0.0888254180501791 t + 1\\right)^{2}}$"
      ],
      "text/plain": [
       "                  ⎛                    3                    2     ⎛           \n",
       "1099863.0641723⋅t⋅⎝- 1.88052250976e-8⋅t  + 2.0671718702e-5⋅t  - t⋅⎝- 2.8207837\n",
       "──────────────────────────────────────────────────────────────────────────────\n",
       "                                                                              \n",
       "                                                      ⎛                       \n",
       "                                                      ⎝- 0.000121207772191223⋅\n",
       "\n",
       "         2                                       ⎞                            \n",
       "6464e-8⋅t  + 2.0671718702e-5⋅t + 0.00023272301055⎠ + 0.0004654460211⋅t - 1.451\n",
       "──────────────────────────────────────────────────────────────────────────────\n",
       "                              2                                               \n",
       " 2                           ⎞                                                \n",
       "t  + 0.0888254180501791⋅t + 1⎠                                                \n",
       "\n",
       "       ⎞\n",
       "9277184⎠\n",
       "────────\n",
       "        \n",
       "        \n",
       "        "
      ]
     },
     "metadata": {},
     "output_type": "display_data"
    },
    {
     "data": {
      "image/png": "[encoded data removed]",
      "text/latex": [
       "$\\displaystyle \\frac{10854512.5077435 \\left(- 9.4026125488 \\cdot 10^{-9} t^{3} + 1.0335859351 \\cdot 10^{-5} t^{2} - t \\left(- 2.82078376464 \\cdot 10^{-8} t^{2} + 2.0671718702 \\cdot 10^{-5} t + 0.00023272301055\\right) + 0.00023272301055 t - 0.7259638592\\right)}{\\left(- 0.000121207772191223 t^{2} + 0.0888254180501791 t + 1\\right)^{2}}$"
      ],
      "text/plain": [
       "                 ⎛                   3                    2     ⎛             \n",
       "10854512.5077435⋅⎝- 9.4026125488e-9⋅t  + 1.0335859351e-5⋅t  - t⋅⎝- 2.820783764\n",
       "──────────────────────────────────────────────────────────────────────────────\n",
       "                                                                              \n",
       "                                                      ⎛                       \n",
       "                                                      ⎝- 0.000121207772191223⋅\n",
       "\n",
       "       2                                       ⎞                              \n",
       "64e-8⋅t  + 2.0671718702e-5⋅t + 0.00023272301055⎠ + 0.00023272301055⋅t - 0.7259\n",
       "──────────────────────────────────────────────────────────────────────────────\n",
       "                              2                                               \n",
       " 2                           ⎞                                                \n",
       "t  + 0.0888254180501791⋅t + 1⎠                                                \n",
       "\n",
       "      ⎞\n",
       "638592⎠\n",
       "───────\n",
       "       \n",
       "       \n",
       "       "
      ]
     },
     "metadata": {},
     "output_type": "display_data"
    },
    {
     "data": {
      "image/png": "[encoded data removed]",
      "text/latex": [
       "$\\displaystyle - \\frac{0.0106606879583533}{- 2.82078376464 \\cdot 10^{-8} t^{2} + 2.0671718702 \\cdot 10^{-5} t + 0.00023272301055}$"
      ],
      "text/plain": [
       "                    -0.0106606879583533                     \n",
       "────────────────────────────────────────────────────────────\n",
       "                    2                                       \n",
       "- 2.82078376464e-8⋅t  + 2.0671718702e-5⋅t + 0.00023272301055"
      ]
     },
     "metadata": {},
     "output_type": "display_data"
    },
    {
     "data": {
      "image/png": "[encoded data removed]",
      "text/latex": [
       "$\\displaystyle \\frac{36927622.1069803 (\\delta t) \\left(1.0335859351 \\cdot 10^{-5} - 2.82078376464 \\cdot 10^{-8} t\\right) \\left(- 9.4026125488 \\cdot 10^{-9} t^{3} + 1.0335859351 \\cdot 10^{-5} t^{2} + 0.00023272301055 t - 0.7259638592\\right)}{\\left(- 0.000121207772191223 t^{2} + 0.0888254180501791 t + 1\\right)^{2}}$"
      ],
      "text/plain": [
       "                                                                   ⎛          \n",
       "36927622.1069803⋅(\\delta t)⋅(1.0335859351e-5 - 2.82078376464e-8⋅t)⋅⎝- 9.402612\n",
       "──────────────────────────────────────────────────────────────────────────────\n",
       "                                                                              \n",
       "                                             ⎛                        2       \n",
       "                                             ⎝- 0.000121207772191223⋅t  + 0.08\n",
       "\n",
       "         3                    2                                    ⎞\n",
       "5488e-9⋅t  + 1.0335859351e-5⋅t  + 0.00023272301055⋅t - 0.7259638592⎠\n",
       "────────────────────────────────────────────────────────────────────\n",
       "                     2                                              \n",
       "                    ⎞                                               \n",
       "88254180501791⋅t + 1⎠                                               "
      ]
     },
     "metadata": {},
     "output_type": "display_data"
    },
    {
     "name": "stdout",
     "output_type": "stream",
     "text": [
      "--- fine termini\n"
     ]
    },
    {
     "data": {
      "image/png": "[encoded data removed]",
      "text/latex": [
       "$\\displaystyle t - \\frac{- 9.4026125488 \\cdot 10^{-9} t^{3} + 1.0335859351 \\cdot 10^{-5} t^{2} + 0.00023272301055 t - 0.7259638592}{- 2.82078376464 \\cdot 10^{-8} t^{2} + 2.0671718702 \\cdot 10^{-5} t + 0.00023272301055}$"
      ],
      "text/plain": [
       "                       3                    2                                 \n",
       "    - 9.4026125488e-9⋅t  + 1.0335859351e-5⋅t  + 0.00023272301055⋅t - 0.7259638\n",
       "t - ──────────────────────────────────────────────────────────────────────────\n",
       "                                 2                                            \n",
       "             - 2.82078376464e-8⋅t  + 2.0671718702e-5⋅t + 0.00023272301055     \n",
       "\n",
       "   \n",
       "592\n",
       "───\n",
       "   \n",
       "   "
      ]
     },
     "metadata": {},
     "output_type": "display_data"
    },
    {
     "name": "stdout",
     "output_type": "stream",
     "text": [
      "0 Datum(best=300.0, delta=1) K\n",
      "---\n",
      "[-560610307.688942, -1328636.86114850, -44490.5000984882, -2.73664407945881, 1.66338774972345e-5]\n",
      "1 Datum(best=294.812046123408, delta=86914.1425394705) K\n",
      "---\n",
      "[-563985793.254229, -1335854.53784468, -44720.3629113561, -2.75090768914803, 0.00410285767723255]\n",
      "2 Datum(best=294.798695500221, delta=86906.2708686319) K\n",
      "---\n",
      "[-563993645.942960, -1335873.13263359, -44720.9853309292, -2.75094597724431, 2.85560399016627e-8]\n",
      "Datum(best=294.798695407314, delta=86906.2708138545) K\n",
      "Datum(best=21.6486954073144, delta=86906.2808138545) °C\n"
     ]
    }
   ],
   "source": [
    "# Metodo di Newton (delle tangenti)\n",
    "#   0 - f(Tₙ) = f'(Tₙ)(Tₙ₊₁ - Tₙ)\n",
    "#   Tₙ₊₁ = Tₙ - f(Tₙ)/f'(Tₙ)\n",
    "def _delta(x): return sympy.Symbol(fr\"(\\delta {x})\")\n",
    "\n",
    "F = a * t**3 + b * t**2 + c * t + d_\n",
    "newton = t - F/F.diff(t)\n",
    "newton_err_terms = [(newton.diff(x) * _delta(x)).simplify() for x in (a, b, c, d_, t)]\n",
    "newton_err = sympy.sqrt(sum([t**2 for t in newton_err_terms])).simplify()\n",
    "display(newton)\n",
    "display(newton_err_terms)\n",
    "display(newton_err)\n",
    "\n",
    "D_V = d(D3.best - V0.best, (D3.delta**2 + V0.delta**2)**.5)\n",
    "T3 = d(300.0, 1)\n",
    "\n",
    "print(\"Errori relativi:\")\n",
    "for name, X in zip(\"ABCDT\", (A3, B3, C3, D_V)):\n",
    "    print(f\"{name} = {X.best} ± {X.delta} (err. rel: {X.delta_rel})\")\n",
    "\n",
    "print(\"Sostituisco i parametri...\")\n",
    "_CONST_SUBS = {a: A3, b: B3, c: C3, d_: D_V}\n",
    "CONST_SUBS = {x: X.best for (x, X) in _CONST_SUBS.items()} | {_delta(x): X.delta_rel for (x, X) in _CONST_SUBS.items()}\n",
    "newton = newton.subs(CONST_SUBS)\n",
    "newton_err_terms = [term.subs(CONST_SUBS) for term in newton_err_terms]\n",
    "newton_err = newton.subs(CONST_SUBS)\n",
    "display(newton)\n",
    "print(\"--- inizio termini\")\n",
    "for term in newton_err_terms:\n",
    "    display(term)\n",
    "print(\"--- fine termini\")\n",
    "display(newton_err)\n",
    "\n",
    "for i in range(3):\n",
    "    print(i, T3, \"K\")\n",
    "    print(\"---\")\n",
    "    #print(i, T3 - d(273.15, .01), \"°C\")\n",
    "    # T3 = T3 - (A3 * T3 ** 3 + B3 * T3 ** 2 + C3 * T3 + D3 - V0)/(_3A * T3**2 + _2B * T3 + C3)\n",
    "    SUBS = {t: T3.best, _delta(t): T3.delta_rel}\n",
    "    print([term.evalf(subs=SUBS) for term in newton_err_terms])\n",
    "    T3 = d.from_delta_rel(newton.evalf(subs=SUBS), newton_err.evalf(subs=SUBS))\n",
    "print(T3, \"K\")\n",
    "print(T3 - d(273.15, .01), \"°C\")"
   ]
  }
 ],
 "metadata": {
  "kernelspec": {
   "display_name": "default",
   "language": "python",
   "name": "python3"
  },
  "language_info": {
   "codemirror_mode": {
    "name": "ipython",
    "version": 3
   },
   "file_extension": ".py",
   "mimetype": "text/x-python",
   "name": "python",
   "nbconvert_exporter": "python",
   "pygments_lexer": "ipython3",
   "version": "3.12.4"
  }
 },
 "nbformat": 4,
 "nbformat_minor": 2
}
