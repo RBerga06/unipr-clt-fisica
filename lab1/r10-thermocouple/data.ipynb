{
 "cells": [
  {
   "cell_type": "code",
   "execution_count": 22,
   "metadata": {},
   "outputs": [
    {
     "name": "stdout",
     "output_type": "stream",
     "text": [
      "Datum(best=0.08524999999999999, delta=0.001) V\n"
     ]
    }
   ],
   "source": [
    "from rberga06.phylab import Datum as d\n",
    "\n",
    "V0 = (d(.076, .001) + d(.088, .001) + d(.086, .001) + d(.091, .001))/4\n",
    "# V0 = d(.0032, 7e-4)\n",
    "print(V0, \"V\")"
   ]
  },
  {
   "cell_type": "code",
   "execution_count": 23,
   "metadata": {},
   "outputs": [
    {
     "name": "stdout",
     "output_type": "stream",
     "text": [
      "Datum(best=14.143463343301846, delta=1.1775596684273784) °C\n"
     ]
    }
   ],
   "source": [
    "# Regressione lineare\n",
    "#    V = AT + B\n",
    "# => T = (V - B)/A\n",
    "A1 = d(.00333718, 4.93e-6)\n",
    "B1 = d(-.87350, .00148)\n",
    "T1 = (V0 - B1)/A1\n",
    "print(T1 - d(273.15, .01), \"°C\")"
   ]
  },
  {
   "cell_type": "code",
   "execution_count": 31,
   "metadata": {},
   "outputs": [
    {
     "name": "stdout",
     "output_type": "stream",
     "text": [
      "Datum(best=271.86123148674096, delta=11.770317052113226) K\n",
      "Datum(best=-1.288768513259015, delta=11.780317052113226) °C\n"
     ]
    }
   ],
   "source": [
    "# Regressione quadratica\n",
    "#    V = AT² + BT + C\n",
    "# => T = (-B + √(B² - 4AC))/2A\n",
    "A2 = d(3.1345109092e-6, 4.1e-8)\n",
    "B2_2 = d(.0018186742, 2e-5)/2\n",
    "C2 = d(-.7260940987, .0024)\n",
    "Delta_4 = B2_2**2 - A2*C2\n",
    "T2 = (Delta_4**.5 - B2_2)/A2\n",
    "print(T2, \"K\")\n",
    "print(T2 - d(273.15, .01), \"°C\")"
   ]
  },
  {
   "cell_type": "code",
   "execution_count": 34,
   "metadata": {},
   "outputs": [
    {
     "name": "stdout",
     "output_type": "stream",
     "text": [
      "0 Datum(best=300, delta=0) K\n",
      "1 Datum(best=294.69779564361926, delta=33.61665238440816) K\n",
      "2 Datum(best=294.6838229759427, delta=141.54251568288186) K\n",
      "3 Datum(best=294.68382287387965, delta=493.7493669187135) K\n",
      "4 Datum(best=294.68382287387965, delta=1643.1874597453955) K\n",
      "5 Datum(best=294.68382287387965, delta=5394.414685804405) K\n",
      "6 Datum(best=294.68382287387965, delta=17636.662258199918) K\n",
      "7 Datum(best=294.68382287387965, delta=57589.62074141024) K\n",
      "8 Datum(best=294.68382287387965, delta=187977.35241581406) K\n",
      "9 Datum(best=294.68382287387965, delta=613501.7995813661) K\n",
      "Datum(best=294.68382287387965, delta=2002214.16392948) K\n",
      "Datum(best=21.53382287387967, delta=2002214.17392948) °C\n"
     ]
    }
   ],
   "source": [
    "# Regressione cubica\n",
    "#   f(T)  = AT³ + BT² + CT + D - V\n",
    "#   f'(T) = 3AT² + 2BT + C\n",
    "#  Metodo di Newton (delle tangenti)\n",
    "#   0 - f(Tₙ) = f'(Tₙ)(Tₙ₊₁ - Tₙ)\n",
    "#   Tₙ₊₁ = Tₙ - f(Tₙ)/f'(Tₙ)\n",
    "A3 = d(-9.403e-9, 8e-10)\n",
    "B3 = d(1.034e-5, 6.2e-7)\n",
    "C3 = d(2.33e-4, 1.37e-4)\n",
    "D3 = d(-.6407, .0077)\n",
    "_3A = 3 * A3\n",
    "_2B = 2 * B3\n",
    "T3 = d(300, 0)\n",
    "for i in range(10):\n",
    "    print(i, T3, \"K\")\n",
    "    #print(i, T3 - d(273.15, .01), \"°C\")\n",
    "    T3 = T3 - (A3 * T3 ** 3 + B3 * T3 ** 2 + C3 * T3 + D3 - V0)/(_3A * T3**2 + _2B * T3 + C3)\n",
    "print(T3, \"K\")\n",
    "print(T3 - d(273.15, .01), \"°C\")"
   ]
  },
  {
   "cell_type": "code",
   "execution_count": null,
   "metadata": {},
   "outputs": [],
   "source": []
  }
 ],
 "metadata": {
  "kernelspec": {
   "display_name": "default",
   "language": "python",
   "name": "python3"
  },
  "language_info": {
   "codemirror_mode": {
    "name": "ipython",
    "version": 3
   },
   "file_extension": ".py",
   "mimetype": "text/x-python",
   "name": "python",
   "nbconvert_exporter": "python",
   "pygments_lexer": "ipython3",
   "version": "3.12.4"
  }
 },
 "nbformat": 4,
 "nbformat_minor": 2
}
