{
 "cells": [
  {
   "cell_type": "code",
   "execution_count": 10,
   "metadata": {},
   "outputs": [],
   "source": [
    "# Formule\n",
    "from math import pi as π\n",
    "from dataclasses import dataclass\n",
    "from rberga06.phylab import Datum as d, Measure\n",
    "\n",
    "def V_cil(H: Measure[float], R: Measure[float]):\n",
    "    \"\"\"Volume del cilindro.\"\"\"\n",
    "    return π * H * R**2\n",
    "\n",
    "def I_cil(density: Measure[float], H: Measure[float], R: Measure[float]):\n",
    "    \"\"\"Momento d'inerzia del cilindro rispetto all'asse centrale\"\"\"\n",
    "    return π/2 * density * H * R**4\n",
    "\n",
    "def V_tc(dH: Measure[float], R: Measure[float], r: Measure[float]):\n",
    "    \"\"\"Volume del tronco di cono.\"\"\"\n",
    "    return π/3 * dH * (R**3 - r**3)/(R - r)\n",
    "\n",
    "def I_tc(density: Measure[float], dH: Measure[float], R: Measure[float], r: Measure[float]):\n",
    "    \"\"\"Momento d'inerzia del tronco di cono rispetto all'asse centrale\"\"\"\n",
    "    return π/10 * density * dH * (R**5 - r**5)/(R - r)\n",
    "\n",
    "@dataclass\n",
    "class Cil:\n",
    "    h: Measure[float]\n",
    "    r: Measure[float]\n",
    "    def V(self, /) -> Measure[float]: return V_cil(self.h, self.r)\n",
    "    def I(self, density: Measure[float], /) -> Measure[float]: return I_cil(density, self.h, self.r)\n",
    "\n",
    "@dataclass\n",
    "class Tcn:\n",
    "    h: Measure[float]\n",
    "    R: Measure[float]\n",
    "    r: Measure[float]\n",
    "    def V(self, /) -> Measure[float]:\n",
    "        return V_tc(self.h, self.R, self.r)\n",
    "    def I(self, density: Measure[float], /) -> Measure[float]:\n",
    "        return I_tc(density, self.h, self.R, self.r)\n"
   ]
  },
  {
   "cell_type": "markdown",
   "metadata": {},
   "source": [
    "## Corpo che rotola"
   ]
  },
  {
   "cell_type": "code",
   "execution_count": 11,
   "metadata": {},
   "outputs": [
    {
     "name": "stdout",
     "output_type": "stream",
     "text": [
      "I#0 Datum(best=0.0001546407818563279, delta=1.8402685068972811e-06)\n",
      "I#1 Datum(best=1.3666206112313878e-05, delta=4.643467506431115e-07)\n",
      "I#2 Datum(best=3.3648412109271607e-06, delta=8.363897081586994e-08)\n",
      "I#3 Datum(best=1.0702214655090365e-06, delta=2.3120762136760076e-08)\n",
      "I#4 Datum(best=1.1799930238456128e-05, delta=3.7591025601344237e-07)\n",
      "I#5 Datum(best=0.0002689073694348953, delta=3.0124429576775917e-06)\n",
      "I#6 Datum(best=1.2636172891971497e-05, delta=4.2296734060602314e-07)\n",
      "I#7 Datum(best=1.0933605530218792e-06, delta=2.3558118865716773e-08)\n",
      "I#8 Datum(best=3.4093795071482746e-06, delta=8.449480830888986e-08)\n",
      "I#9 Datum(best=1.3520553339953977e-05, delta=4.577837793033035e-07)\n",
      "I#10 Datum(best=0.0001543868561061533, delta=1.837663674784436e-06)\n",
      "R = Datum(best=12.937500000000002, delta=0.025) mm\n",
      "density = Datum(best=8343.238585457932, delta=52.14713689635419) kg/m^3\n",
      "V = Datum(best=0.000265432898426271, delta=1.657817351063042e-06) m^3\n",
      "I = Datum(best=6.384956727166783, delta=0.08626195926052425) 10⁻⁴ kg m²\n",
      "I/(MR^2) + 1 = Datum(best=2.7225340688076907, delta=0.02993667203898296)\n",
      "D_ =  Datum(best=0.0499, delta=5e-05)\n",
      "arctan[µ(MR^2/I + 1)] = Datum(best=25.368530968890212, delta=7.535131656406679)°\n"
     ]
    }
   ],
   "source": [
    "from typing import cast\n",
    "from math import degrees, atan\n",
    "from rberga06.phylab import Datum as d\n",
    "\n",
    "h = [x/1000 for x in [\n",
    "    d(30.45, .05),\n",
    "    d( 5.95,  .1),\n",
    "    d( 9.20,  .1),\n",
    "    d(10.80, .05),\n",
    "    d( 4.25, .05),\n",
    "    d(52.95, .05),\n",
    "    d( 4.25, .05),\n",
    "    d(10.80, .05),\n",
    "    d( 9.25,  .1),\n",
    "    d( 5.95,  .1),\n",
    "    d(30.40, .05),\n",
    "]]\n",
    "\n",
    "diam1 = [d(x, .05)/1000 for x in [\n",
    "    49.85, 31.00, 25.85, 18.80, 35.85, 49.90, 35.95, 18.65, 25.90, 31.45, 49.95,\n",
    "]]\n",
    "diam2 = [d(x, .05)/1000 for x in [\n",
    "    49.90, 29.40, 25.85, 18.65, 34.55, 49.90, 36.35, 18.75, 25.90, 29.10, 49.90,\n",
    "]]\n",
    "\n",
    "diam = diam2\n",
    "\n",
    "obj = [\n",
    "    Cil(h[0], diam[0]/2),\n",
    "    Tcn(h[1], diam[0]/2, diam[1]/2),\n",
    "    Cil(h[2], diam[2]/2),\n",
    "    Cil(h[3], diam[3]/2),\n",
    "    Tcn(h[4], diam[4]/2, diam[5]/2),\n",
    "    Cil(h[5], diam[5]/2),\n",
    "    Tcn(h[6], diam[5]/2, diam[6]/2),\n",
    "    Cil(h[7], diam[7]/2),\n",
    "    Cil(h[8], diam[8]/2),\n",
    "    Tcn(h[9], diam[10]/2, diam[9]/2),\n",
    "    Cil(h[10], diam[10]/2),\n",
    "]\n",
    "\n",
    "M = d(2214.57, .01)/1000  # kg\n",
    "V = sum([x.V() for x in obj])\n",
    "density = M / V\n",
    "for _i, _x in enumerate(obj):\n",
    "    print(f\"I#{_i}\", _x.I(density))\n",
    "I = cast(Measure[float], sum([x.I(density) for x in obj], start=d(0., 0.)))\n",
    "R = (diam[2] + diam[8])/4\n",
    "D_ = (diam[0] + diam[5] + diam[-1])/3\n",
    "K = I / (M * R**2) + 1\n",
    "\n",
    "print(\"R =\", R*1000, \"mm\")\n",
    "print(\"density =\", density, \"kg/m^3\")\n",
    "print(\"V =\", V, \"m^3\")\n",
    "print(\"I =\", I * 1e4, \"10⁻⁴ kg m²\")\n",
    "print(\"I/(MR^2) + 1 =\", K)\n",
    "print(f\"D_ = \", D_)\n",
    "_mu_MR2_Ip1 = d(.3, .1) * ((M*R**2)/I + 1)\n",
    "print(\"arctan[µ(MR^2/I + 1)] =\", d(\n",
    "    degrees(atan(_mu_MR2_Ip1.best)),\n",
    "    degrees(_mu_MR2_Ip1.delta/(1+_mu_MR2_Ip1.best**2)),\n",
    "), \"\\b°\")"
   ]
  },
  {
   "cell_type": "markdown",
   "metadata": {},
   "source": [
    "$$g = \\frac{2L}{t^2 \\sin\\theta}\\left(\\frac{I_\\text{cm}}{M R^2} + 1\\right)$$"
   ]
  },
  {
   "cell_type": "code",
   "execution_count": 12,
   "metadata": {},
   "outputs": [
    {
     "name": "stdout",
     "output_type": "stream",
     "text": [
      "g = Datum(best=11.012966967875542, delta=0.4906930768404661) m/s²\n"
     ]
    }
   ],
   "source": [
    "from math import sin, cos, radians\n",
    "\n",
    "angoli = [d(radians(x.best), radians(x.delta)) for x in [\n",
    "    # unità di misura: °\n",
    "    d(3.4, 0.1),\n",
    "]]\n",
    "distanze = [\n",
    "    d(55.6, .1)/100,  # m\n",
    "]\n",
    "\n",
    "L = distanze[0] - d(1.6, .1)/100 - D_\n",
    "t = 2_021_348.32/1_000_000  # s\n",
    "g = 2 * K * L / (t ** 2 * d(sin(angoli[0].best), cos(angoli[0].best) * angoli[0].delta))\n",
    "print(\"g =\", g, \"m/s²\")"
   ]
  },
  {
   "cell_type": "code",
   "execution_count": null,
   "metadata": {},
   "outputs": [],
   "source": []
  }
 ],
 "metadata": {
  "kernelspec": {
   "display_name": "Python 3",
   "language": "python",
   "name": "python3"
  },
  "language_info": {
   "codemirror_mode": {
    "name": "ipython",
    "version": 3
   },
   "file_extension": ".py",
   "mimetype": "text/x-python",
   "name": "python",
   "nbconvert_exporter": "python",
   "pygments_lexer": "ipython3",
   "version": "3.12.4"
  }
 },
 "nbformat": 4,
 "nbformat_minor": 2
}
